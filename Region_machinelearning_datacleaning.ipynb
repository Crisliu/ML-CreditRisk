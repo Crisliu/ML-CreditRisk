{
 "cells": [
  {
   "cell_type": "code",
   "execution_count": 2,
   "metadata": {
    "collapsed": false
   },
   "outputs": [
    {
     "name": "stderr",
     "output_type": "stream",
     "text": [
      "/PythonApp/anaconda1/lib/python2.7/site-packages/sklearn/cross_validation.py:44: DeprecationWarning: This module was deprecated in version 0.18 in favor of the model_selection module into which all the refactored classes and functions are moved. Also note that the interface of the new CV iterators are different from that of this module. This module will be removed in 0.20.\n",
      "  \"This module will be removed in 0.20.\", DeprecationWarning)\n"
     ]
    }
   ],
   "source": [
    "import pandas as pd\n",
    "import numpy as np\n",
    "import matplotlib.pyplot as plt\n",
    "from sklearn.metrics import roc_curve, auc\n",
    "from sklearn.cross_validation import train_test_split\n",
    "from sklearn.cross_validation import StratifiedKFold\n",
    "from sklearn.metrics import confusion_matrix\n",
    "from sklearn.metrics import roc_auc_score\n",
    "from sklearn.metrics import f1_score\n",
    "from sklearn.metrics import precision_recall_curve\n",
    "from scipy import interp\n",
    "import pandas.core.algorithms as algos \n",
    "from sklearn.preprocessing import label_binarize\n",
    "from sklearn.preprocessing import LabelEncoder\n",
    "from sklearn.ensemble import RandomForestClassifier\n",
    "from sklearn.linear_model import LogisticRegression\n",
    "import time"
   ]
  },
  {
   "cell_type": "markdown",
   "metadata": {},
   "source": [
    "#### data from clipboard"
   ]
  },
  {
   "cell_type": "code",
   "execution_count": 11,
   "metadata": {
    "collapsed": true
   },
   "outputs": [],
   "source": [
    "col = pd.read_clipboard(header=None)"
   ]
  },
  {
   "cell_type": "code",
   "execution_count": 12,
   "metadata": {
    "collapsed": true
   },
   "outputs": [],
   "source": [
    "droplist1 = pd.read_clipboard(header=None)[0].values"
   ]
  },
  {
   "cell_type": "code",
   "execution_count": 44,
   "metadata": {
    "collapsed": false
   },
   "outputs": [
    {
     "name": "stderr",
     "output_type": "stream",
     "text": [
      "/PythonApp/anaconda1/lib/python2.7/site-packages/IPython/core/interactiveshell.py:2723: DtypeWarning: Columns (7,17,18,39,40,41,52,61,62,63,65,67,68,69,70,87,89,90,91,101,103,104,105,106,123,125,126,127,137,139,140,141,142,159,161,162,163,173,175,176,177,178,195,197,198,199,209,211,212,213,214,231,233,234,235,245,247,248,249,250,267,269,270,271,282,284,285,286,287,304,306,307,308,319,321,322,323,324,341,343,344,345,356,358,359,360,361,378,380,381,382,393,395,396,397,398,415,417,418,419,430,432,433,434,435,452,454,455,456,467,469,470,471,472,489,491,492,493,515,516,1509,1510,1511) have mixed types. Specify dtype option on import or set low_memory=False.\n",
      "  interactivity=interactivity, compiler=compiler, result=result)\n"
     ]
    },
    {
     "data": {
      "text/plain": [
       "(615098, 3543)"
      ]
     },
     "execution_count": 44,
     "metadata": {},
     "output_type": "execute_result"
    }
   ],
   "source": [
    "df1 = pd.read_csv('/data2/GMC/rgpm_allattrib_dev_cln.csv',header= None)#,converters = {'.':np.nan})#,nrows=5000)\n",
    "df1.columns = col[0].values\n",
    "df1=df1.set_index(df1.Seqnum)\n",
    "df1.shape"
   ]
  },
  {
   "cell_type": "code",
   "execution_count": 45,
   "metadata": {
    "collapsed": false
   },
   "outputs": [
    {
     "name": "stdout",
     "output_type": "stream",
     "text": [
      "(615098, 3513)\n"
     ]
    }
   ],
   "source": [
    "\n",
    "df1 = df1.drop(droplist1,1)\n",
    "print df1.shape"
   ]
  },
  {
   "cell_type": "code",
   "execution_count": 46,
   "metadata": {
    "collapsed": true
   },
   "outputs": [],
   "source": [
    "df1 = df1.replace('.',np.nan)\n",
    "df1 = df1.apply(lambda x: pd.to_numeric(x, errors='ignore'))"
   ]
  },
  {
   "cell_type": "code",
   "execution_count": 47,
   "metadata": {
    "collapsed": false
   },
   "outputs": [
    {
     "data": {
      "text/html": [
       "<div>\n",
       "<table border=\"1\" class=\"dataframe\">\n",
       "  <thead>\n",
       "    <tr style=\"text-align: right;\">\n",
       "      <th></th>\n",
       "      <th>SBFE_FLAG</th>\n",
       "      <th>SEGMENT_PM2016</th>\n",
       "      <th>BUSINESS_DATE</th>\n",
       "      <th>BOOK_DATE</th>\n",
       "      <th>MATURITY_DATE</th>\n",
       "      <th>EXPIRATION_DATE</th>\n",
       "      <th>CHARGE_OFF_DT</th>\n",
       "      <th>COMMITED_DATE</th>\n",
       "      <th>LATE_FEES_MTD_AMT</th>\n",
       "      <th>BUSINESS_ESTABLISH_DATE</th>\n",
       "      <th>...</th>\n",
       "      <th>AVG1y_DTRI72</th>\n",
       "      <th>chg_DTRI77_1</th>\n",
       "      <th>Achg_DTRI77_12</th>\n",
       "      <th>MN_PC1_DTRI77</th>\n",
       "      <th>AVG1y_DTRI79</th>\n",
       "      <th>chg_DTRI84_9</th>\n",
       "      <th>MIN1y_DTRI88</th>\n",
       "      <th>MAX1y_IE53</th>\n",
       "      <th>MAX_NG2_IE79</th>\n",
       "      <th>Seqnum</th>\n",
       "    </tr>\n",
       "    <tr>\n",
       "      <th>Seqnum</th>\n",
       "      <th></th>\n",
       "      <th></th>\n",
       "      <th></th>\n",
       "      <th></th>\n",
       "      <th></th>\n",
       "      <th></th>\n",
       "      <th></th>\n",
       "      <th></th>\n",
       "      <th></th>\n",
       "      <th></th>\n",
       "      <th></th>\n",
       "      <th></th>\n",
       "      <th></th>\n",
       "      <th></th>\n",
       "      <th></th>\n",
       "      <th></th>\n",
       "      <th></th>\n",
       "      <th></th>\n",
       "      <th></th>\n",
       "      <th></th>\n",
       "      <th></th>\n",
       "    </tr>\n",
       "  </thead>\n",
       "  <tbody>\n",
       "    <tr>\n",
       "      <th>1</th>\n",
       "      <td>1</td>\n",
       "      <td>1</td>\n",
       "      <td>09/30/2014</td>\n",
       "      <td>11/02/1995</td>\n",
       "      <td>11/09/2014</td>\n",
       "      <td>NaN</td>\n",
       "      <td>NaN</td>\n",
       "      <td>NaN</td>\n",
       "      <td>NaN</td>\n",
       "      <td>NaN</td>\n",
       "      <td>...</td>\n",
       "      <td>15.916667</td>\n",
       "      <td>-0.522821</td>\n",
       "      <td>-23490</td>\n",
       "      <td>-0.509047</td>\n",
       "      <td>19.583333</td>\n",
       "      <td>-0.523252</td>\n",
       "      <td>-225</td>\n",
       "      <td>0</td>\n",
       "      <td>-7</td>\n",
       "      <td>1</td>\n",
       "    </tr>\n",
       "    <tr>\n",
       "      <th>2</th>\n",
       "      <td>1</td>\n",
       "      <td>5</td>\n",
       "      <td>09/30/2014</td>\n",
       "      <td>05/30/2012</td>\n",
       "      <td>08/24/2013</td>\n",
       "      <td>08/24/2013</td>\n",
       "      <td>NaN</td>\n",
       "      <td>05/24/2012</td>\n",
       "      <td>NaN</td>\n",
       "      <td>NaN</td>\n",
       "      <td>...</td>\n",
       "      <td>8.166667</td>\n",
       "      <td>-0.070411</td>\n",
       "      <td>-1246</td>\n",
       "      <td>-0.067218</td>\n",
       "      <td>12.500000</td>\n",
       "      <td>-0.980406</td>\n",
       "      <td>0</td>\n",
       "      <td>0</td>\n",
       "      <td>-4</td>\n",
       "      <td>2</td>\n",
       "    </tr>\n",
       "    <tr>\n",
       "      <th>3</th>\n",
       "      <td>1</td>\n",
       "      <td>7</td>\n",
       "      <td>09/30/2014</td>\n",
       "      <td>10/29/2012</td>\n",
       "      <td>09/01/2017</td>\n",
       "      <td>NaN</td>\n",
       "      <td>NaN</td>\n",
       "      <td>NaN</td>\n",
       "      <td>NaN</td>\n",
       "      <td>NaN</td>\n",
       "      <td>...</td>\n",
       "      <td>32.083333</td>\n",
       "      <td>0.000000</td>\n",
       "      <td>107882</td>\n",
       "      <td>0.627901</td>\n",
       "      <td>63.333333</td>\n",
       "      <td>0.040932</td>\n",
       "      <td>30557</td>\n",
       "      <td>1</td>\n",
       "      <td>-39</td>\n",
       "      <td>3</td>\n",
       "    </tr>\n",
       "    <tr>\n",
       "      <th>4</th>\n",
       "      <td>1</td>\n",
       "      <td>8</td>\n",
       "      <td>09/30/2014</td>\n",
       "      <td>12/28/2001</td>\n",
       "      <td>12/05/2014</td>\n",
       "      <td>12/05/2014</td>\n",
       "      <td>NaN</td>\n",
       "      <td>12/21/2001</td>\n",
       "      <td>0</td>\n",
       "      <td>NaN</td>\n",
       "      <td>...</td>\n",
       "      <td>NaN</td>\n",
       "      <td>NaN</td>\n",
       "      <td>NaN</td>\n",
       "      <td>NaN</td>\n",
       "      <td>NaN</td>\n",
       "      <td>NaN</td>\n",
       "      <td>NaN</td>\n",
       "      <td>NaN</td>\n",
       "      <td>NaN</td>\n",
       "      <td>4</td>\n",
       "    </tr>\n",
       "    <tr>\n",
       "      <th>5</th>\n",
       "      <td>1</td>\n",
       "      <td>8</td>\n",
       "      <td>09/30/2014</td>\n",
       "      <td>11/21/2012</td>\n",
       "      <td>11/19/2017</td>\n",
       "      <td>NaN</td>\n",
       "      <td>NaN</td>\n",
       "      <td>NaN</td>\n",
       "      <td>NaN</td>\n",
       "      <td>NaN</td>\n",
       "      <td>...</td>\n",
       "      <td>NaN</td>\n",
       "      <td>NaN</td>\n",
       "      <td>NaN</td>\n",
       "      <td>NaN</td>\n",
       "      <td>NaN</td>\n",
       "      <td>NaN</td>\n",
       "      <td>NaN</td>\n",
       "      <td>NaN</td>\n",
       "      <td>NaN</td>\n",
       "      <td>5</td>\n",
       "    </tr>\n",
       "  </tbody>\n",
       "</table>\n",
       "<p>5 rows × 3513 columns</p>\n",
       "</div>"
      ],
      "text/plain": [
       "        SBFE_FLAG  SEGMENT_PM2016 BUSINESS_DATE   BOOK_DATE MATURITY_DATE  \\\n",
       "Seqnum                                                                      \n",
       "1               1               1    09/30/2014  11/02/1995    11/09/2014   \n",
       "2               1               5    09/30/2014  05/30/2012    08/24/2013   \n",
       "3               1               7    09/30/2014  10/29/2012    09/01/2017   \n",
       "4               1               8    09/30/2014  12/28/2001    12/05/2014   \n",
       "5               1               8    09/30/2014  11/21/2012    11/19/2017   \n",
       "\n",
       "       EXPIRATION_DATE CHARGE_OFF_DT COMMITED_DATE  LATE_FEES_MTD_AMT  \\\n",
       "Seqnum                                                                  \n",
       "1                  NaN           NaN           NaN                NaN   \n",
       "2           08/24/2013           NaN    05/24/2012                NaN   \n",
       "3                  NaN           NaN           NaN                NaN   \n",
       "4           12/05/2014           NaN    12/21/2001                  0   \n",
       "5                  NaN           NaN           NaN                NaN   \n",
       "\n",
       "       BUSINESS_ESTABLISH_DATE   ...    AVG1y_DTRI72  chg_DTRI77_1  \\\n",
       "Seqnum                           ...                                 \n",
       "1                          NaN   ...       15.916667     -0.522821   \n",
       "2                          NaN   ...        8.166667     -0.070411   \n",
       "3                          NaN   ...       32.083333      0.000000   \n",
       "4                          NaN   ...             NaN           NaN   \n",
       "5                          NaN   ...             NaN           NaN   \n",
       "\n",
       "        Achg_DTRI77_12  MN_PC1_DTRI77 AVG1y_DTRI79 chg_DTRI84_9 MIN1y_DTRI88  \\\n",
       "Seqnum                                                                         \n",
       "1               -23490      -0.509047    19.583333    -0.523252         -225   \n",
       "2                -1246      -0.067218    12.500000    -0.980406            0   \n",
       "3               107882       0.627901    63.333333     0.040932        30557   \n",
       "4                  NaN            NaN          NaN          NaN          NaN   \n",
       "5                  NaN            NaN          NaN          NaN          NaN   \n",
       "\n",
       "       MAX1y_IE53 MAX_NG2_IE79  Seqnum  \n",
       "Seqnum                                  \n",
       "1               0           -7       1  \n",
       "2               0           -4       2  \n",
       "3               1          -39       3  \n",
       "4             NaN          NaN       4  \n",
       "5             NaN          NaN       5  \n",
       "\n",
       "[5 rows x 3513 columns]"
      ]
     },
     "execution_count": 47,
     "metadata": {},
     "output_type": "execute_result"
    }
   ],
   "source": [
    "df1.head()"
   ]
  },
  {
   "cell_type": "markdown",
   "metadata": {},
   "source": [
    "#### Seperate numeric and non-numeric variables"
   ]
  },
  {
   "cell_type": "code",
   "execution_count": 48,
   "metadata": {
    "collapsed": false
   },
   "outputs": [],
   "source": [
    "def var_classfication(data):\n",
    "    var_object = data.dtypes[data.dtypes==object].index\n",
    "    var_date = [x for x in var_object if type(x)=='str' and x[-3:]=='dte' ]\n",
    "    var_nonnum = [x for x in var_object if x not in var_date]\n",
    "    var_num = data.dtypes[data.dtypes!=object].index\n",
    "    return var_date,var_nonnum,var_num\n",
    "\n",
    "var_date,var_nonnum,var_num = var_classfication(df1)"
   ]
  },
  {
   "cell_type": "code",
   "execution_count": 49,
   "metadata": {
    "collapsed": false
   },
   "outputs": [
    {
     "name": "stdout",
     "output_type": "stream",
     "text": [
      "['BUSINESS_DATE', 'BOOK_DATE', 'MATURITY_DATE', 'EXPIRATION_DATE', 'CHARGE_OFF_DT', 'COMMITED_DATE', 'BUSINESS_ESTABLISH_DATE', 'DD_DIRECT_DEPOSIT_IND', 'CD_BILLPAY_IND', 'DD_BILLPAY_IND', 'IRA_BILLPAY_IND', 'SV_BILLPAY_IND', 'CHRG_OFF_AMT_ind', 'account_open_ind', 'BUSINESSDATE', 'BASECAT', 'TIXIE', 'IMPORT', 'LOC_IND', 'HQBR_IND']\n"
     ]
    }
   ],
   "source": [
    "print var_nonnum"
   ]
  },
  {
   "cell_type": "markdown",
   "metadata": {},
   "source": [
    "#### Category variables with 10+ levels"
   ]
  },
  {
   "cell_type": "code",
   "execution_count": 52,
   "metadata": {
    "collapsed": false
   },
   "outputs": [
    {
     "name": "stdout",
     "output_type": "stream",
     "text": [
      "BOOK_DATE 3246\n",
      "MATURITY_DATE 5703\n",
      "EXPIRATION_DATE 3543\n",
      "CHARGE_OFF_DT 20\n",
      "COMMITED_DATE 5219\n",
      "BUSINESS_ESTABLISH_DATE 934\n"
     ]
    }
   ],
   "source": [
    "for i,j in enumerate(df1[var_nonnum]):\n",
    "        ct = df1[j].nunique()\n",
    "        if ct >10:\n",
    "            print j,ct#i"
   ]
  },
  {
   "cell_type": "code",
   "execution_count": 53,
   "metadata": {
    "collapsed": false
   },
   "outputs": [
    {
     "name": "stdout",
     "output_type": "stream",
     "text": [
      "BUSINESS_DATE 9\n",
      "DD_DIRECT_DEPOSIT_IND 3\n",
      "CD_BILLPAY_IND 3\n",
      "DD_BILLPAY_IND 3\n",
      "IRA_BILLPAY_IND 3\n",
      "SV_BILLPAY_IND 3\n",
      "CHRG_OFF_AMT_ind 2\n",
      "account_open_ind 2\n",
      "BUSINESSDATE 9\n",
      "BASECAT 3\n",
      "TIXIE 2\n",
      "IMPORT 4\n",
      "LOC_IND 3\n",
      "HQBR_IND 3\n"
     ]
    }
   ],
   "source": [
    "for i,j in enumerate(df1[var_nonnum]):\n",
    "        ct = df1[j].nunique()\n",
    "        if ct <=10:\n",
    "            print j,ct#i"
   ]
  },
  {
   "cell_type": "code",
   "execution_count": 62,
   "metadata": {
    "collapsed": false
   },
   "outputs": [],
   "source": [
    "def sic2d(row_):\n",
    "    if row_=='    ' or row_!=row_ or row_ == '' or row_ == ' ':\n",
    "        return 11\n",
    "    else:\n",
    "        row = int(row_)/100\n",
    "        #if row.isin(43, 90,91,92,93,94,95,96,97,98):\n",
    "        if row >  0 and row<=9:\n",
    "            return 1\n",
    "        elif row<=14:\n",
    "            return 2\n",
    "        elif row<-17:\n",
    "            return 3\n",
    "        elif row<=39:\n",
    "            return 4\n",
    "        elif row<=49:\n",
    "            return 5\n",
    "        elif row<=51:\n",
    "            return 6\n",
    "        elif row<=59:\n",
    "            return 7\n",
    "        elif row<=67:\n",
    "            return 8\n",
    "        elif row<=89:\n",
    "            return 9\n",
    "        elif row<=97:\n",
    "            return 10\n",
    "        else:\n",
    "            return 11\n",
    "df1['sic2d'] = df1['SIC4'].map(sic2d)\n",
    "def age(df):\n",
    "    df.YRSTART = df.YRSTART.replace(to_replace=[' ','  ','   ','    '], value=2016)\n",
    "    df.YRSTART = df.YRSTART.astype(float)\n",
    "    df['start_age'] = 2016 - df['YRSTART'] \n",
    "    df.loc[df.start_age>200,:].start_age = 200\n",
    "    return df\n",
    "age(df1)"
   ]
  },
  {
   "cell_type": "markdown",
   "metadata": {},
   "source": [
    "#### Pull all category variables with < 10 levels"
   ]
  },
  {
   "cell_type": "code",
   "execution_count": 56,
   "metadata": {
    "collapsed": false
   },
   "outputs": [],
   "source": [
    "var_nonnum.remove('BUSINESSDATE')\n",
    "var_nonnum.remove('BUSINESS_DATE')"
   ]
  },
  {
   "cell_type": "code",
   "execution_count": 57,
   "metadata": {
    "collapsed": false
   },
   "outputs": [],
   "source": [
    "dummylist1 = [j for i,j in enumerate(df1[var_nonnum]) if df1[j].nunique()<=10]"
   ]
  },
  {
   "cell_type": "markdown",
   "metadata": {},
   "source": [
    "#### create dummy variable"
   ]
  },
  {
   "cell_type": "code",
   "execution_count": 58,
   "metadata": {
    "collapsed": false
   },
   "outputs": [
    {
     "data": {
      "text/html": [
       "<div>\n",
       "<table border=\"1\" class=\"dataframe\">\n",
       "  <thead>\n",
       "    <tr style=\"text-align: right;\">\n",
       "      <th></th>\n",
       "      <th>DD_DIRECT_DEPOSIT_IND_</th>\n",
       "      <th>DD_DIRECT_DEPOSIT_IND_N</th>\n",
       "      <th>DD_DIRECT_DEPOSIT_IND_Y</th>\n",
       "      <th>CD_BILLPAY_IND_</th>\n",
       "      <th>CD_BILLPAY_IND_N</th>\n",
       "      <th>CD_BILLPAY_IND_Y</th>\n",
       "      <th>DD_BILLPAY_IND_</th>\n",
       "      <th>DD_BILLPAY_IND_N</th>\n",
       "      <th>DD_BILLPAY_IND_Y</th>\n",
       "      <th>IRA_BILLPAY_IND_</th>\n",
       "      <th>...</th>\n",
       "      <th>IMPORT_</th>\n",
       "      <th>IMPORT_B</th>\n",
       "      <th>IMPORT_C</th>\n",
       "      <th>IMPORT_D</th>\n",
       "      <th>LOC_IND_</th>\n",
       "      <th>LOC_IND_H</th>\n",
       "      <th>LOC_IND_S</th>\n",
       "      <th>HQBR_IND_</th>\n",
       "      <th>HQBR_IND_R</th>\n",
       "      <th>HQBR_IND_S</th>\n",
       "    </tr>\n",
       "    <tr>\n",
       "      <th>Seqnum</th>\n",
       "      <th></th>\n",
       "      <th></th>\n",
       "      <th></th>\n",
       "      <th></th>\n",
       "      <th></th>\n",
       "      <th></th>\n",
       "      <th></th>\n",
       "      <th></th>\n",
       "      <th></th>\n",
       "      <th></th>\n",
       "      <th></th>\n",
       "      <th></th>\n",
       "      <th></th>\n",
       "      <th></th>\n",
       "      <th></th>\n",
       "      <th></th>\n",
       "      <th></th>\n",
       "      <th></th>\n",
       "      <th></th>\n",
       "      <th></th>\n",
       "      <th></th>\n",
       "    </tr>\n",
       "  </thead>\n",
       "  <tbody>\n",
       "    <tr>\n",
       "      <th>1</th>\n",
       "      <td>0</td>\n",
       "      <td>0</td>\n",
       "      <td>1</td>\n",
       "      <td>1</td>\n",
       "      <td>0</td>\n",
       "      <td>0</td>\n",
       "      <td>0</td>\n",
       "      <td>0</td>\n",
       "      <td>1</td>\n",
       "      <td>1</td>\n",
       "      <td>...</td>\n",
       "      <td>1</td>\n",
       "      <td>0</td>\n",
       "      <td>0</td>\n",
       "      <td>0</td>\n",
       "      <td>0</td>\n",
       "      <td>0</td>\n",
       "      <td>1</td>\n",
       "      <td>0</td>\n",
       "      <td>1</td>\n",
       "      <td>0</td>\n",
       "    </tr>\n",
       "    <tr>\n",
       "      <th>2</th>\n",
       "      <td>0</td>\n",
       "      <td>0</td>\n",
       "      <td>1</td>\n",
       "      <td>1</td>\n",
       "      <td>0</td>\n",
       "      <td>0</td>\n",
       "      <td>0</td>\n",
       "      <td>0</td>\n",
       "      <td>1</td>\n",
       "      <td>1</td>\n",
       "      <td>...</td>\n",
       "      <td>1</td>\n",
       "      <td>0</td>\n",
       "      <td>0</td>\n",
       "      <td>0</td>\n",
       "      <td>0</td>\n",
       "      <td>0</td>\n",
       "      <td>1</td>\n",
       "      <td>0</td>\n",
       "      <td>1</td>\n",
       "      <td>0</td>\n",
       "    </tr>\n",
       "    <tr>\n",
       "      <th>3</th>\n",
       "      <td>1</td>\n",
       "      <td>0</td>\n",
       "      <td>0</td>\n",
       "      <td>1</td>\n",
       "      <td>0</td>\n",
       "      <td>0</td>\n",
       "      <td>1</td>\n",
       "      <td>0</td>\n",
       "      <td>0</td>\n",
       "      <td>1</td>\n",
       "      <td>...</td>\n",
       "      <td>1</td>\n",
       "      <td>0</td>\n",
       "      <td>0</td>\n",
       "      <td>0</td>\n",
       "      <td>0</td>\n",
       "      <td>1</td>\n",
       "      <td>0</td>\n",
       "      <td>0</td>\n",
       "      <td>1</td>\n",
       "      <td>0</td>\n",
       "    </tr>\n",
       "    <tr>\n",
       "      <th>4</th>\n",
       "      <td>0</td>\n",
       "      <td>0</td>\n",
       "      <td>1</td>\n",
       "      <td>1</td>\n",
       "      <td>0</td>\n",
       "      <td>0</td>\n",
       "      <td>0</td>\n",
       "      <td>0</td>\n",
       "      <td>1</td>\n",
       "      <td>1</td>\n",
       "      <td>...</td>\n",
       "      <td>1</td>\n",
       "      <td>0</td>\n",
       "      <td>0</td>\n",
       "      <td>0</td>\n",
       "      <td>1</td>\n",
       "      <td>0</td>\n",
       "      <td>0</td>\n",
       "      <td>1</td>\n",
       "      <td>0</td>\n",
       "      <td>0</td>\n",
       "    </tr>\n",
       "    <tr>\n",
       "      <th>5</th>\n",
       "      <td>0</td>\n",
       "      <td>0</td>\n",
       "      <td>1</td>\n",
       "      <td>1</td>\n",
       "      <td>0</td>\n",
       "      <td>0</td>\n",
       "      <td>0</td>\n",
       "      <td>0</td>\n",
       "      <td>1</td>\n",
       "      <td>1</td>\n",
       "      <td>...</td>\n",
       "      <td>1</td>\n",
       "      <td>0</td>\n",
       "      <td>0</td>\n",
       "      <td>0</td>\n",
       "      <td>1</td>\n",
       "      <td>0</td>\n",
       "      <td>0</td>\n",
       "      <td>1</td>\n",
       "      <td>0</td>\n",
       "      <td>0</td>\n",
       "    </tr>\n",
       "  </tbody>\n",
       "</table>\n",
       "<p>5 rows × 34 columns</p>\n",
       "</div>"
      ],
      "text/plain": [
       "        DD_DIRECT_DEPOSIT_IND_   DD_DIRECT_DEPOSIT_IND_N  \\\n",
       "Seqnum                                                     \n",
       "1                             0                        0   \n",
       "2                             0                        0   \n",
       "3                             1                        0   \n",
       "4                             0                        0   \n",
       "5                             0                        0   \n",
       "\n",
       "        DD_DIRECT_DEPOSIT_IND_Y  CD_BILLPAY_IND_   CD_BILLPAY_IND_N  \\\n",
       "Seqnum                                                                \n",
       "1                             1                 1                 0   \n",
       "2                             1                 1                 0   \n",
       "3                             0                 1                 0   \n",
       "4                             1                 1                 0   \n",
       "5                             1                 1                 0   \n",
       "\n",
       "        CD_BILLPAY_IND_Y  DD_BILLPAY_IND_   DD_BILLPAY_IND_N  \\\n",
       "Seqnum                                                         \n",
       "1                      0                 0                 0   \n",
       "2                      0                 0                 0   \n",
       "3                      0                 1                 0   \n",
       "4                      0                 0                 0   \n",
       "5                      0                 0                 0   \n",
       "\n",
       "        DD_BILLPAY_IND_Y  IRA_BILLPAY_IND_      ...      IMPORT_   IMPORT_B  \\\n",
       "Seqnum                                          ...                           \n",
       "1                      1                  1     ...             1         0   \n",
       "2                      1                  1     ...             1         0   \n",
       "3                      0                  1     ...             1         0   \n",
       "4                      1                  1     ...             1         0   \n",
       "5                      1                  1     ...             1         0   \n",
       "\n",
       "        IMPORT_C  IMPORT_D  LOC_IND_   LOC_IND_H  LOC_IND_S  HQBR_IND_   \\\n",
       "Seqnum                                                                    \n",
       "1              0         0          0          0          1           0   \n",
       "2              0         0          0          0          1           0   \n",
       "3              0         0          0          1          0           0   \n",
       "4              0         0          1          0          0           1   \n",
       "5              0         0          1          0          0           1   \n",
       "\n",
       "        HQBR_IND_R  HQBR_IND_S  \n",
       "Seqnum                          \n",
       "1                1           0  \n",
       "2                1           0  \n",
       "3                1           0  \n",
       "4                0           0  \n",
       "5                0           0  \n",
       "\n",
       "[5 rows x 34 columns]"
      ]
     },
     "execution_count": 58,
     "metadata": {},
     "output_type": "execute_result"
    }
   ],
   "source": [
    "\n",
    "dummy_matrix=pd.DataFrame()\n",
    "nan_map = lambda x: 0 if x!= x else x\n",
    "for j in dummylist1:\n",
    "    dummy = pd.get_dummies(df1[j].map(nan_map),prefix=j)\n",
    "    dummy_matrix = pd.concat([dummy_matrix,dummy],1)\n",
    "dummy_matrix.head()"
   ]
  },
  {
   "cell_type": "code",
   "execution_count": 59,
   "metadata": {
    "collapsed": false
   },
   "outputs": [
    {
     "data": {
      "text/plain": [
       "(615098, 3527)"
      ]
     },
     "execution_count": 59,
     "metadata": {},
     "output_type": "execute_result"
    }
   ],
   "source": [
    "df2=pd.concat([df1[var_num],dummy_matrix],1)\n",
    "df2.shape\n"
   ]
  },
  {
   "cell_type": "markdown",
   "metadata": {},
   "source": [
    "#### impute missing "
   ]
  },
  {
   "cell_type": "code",
   "execution_count": 60,
   "metadata": {
    "collapsed": true
   },
   "outputs": [],
   "source": [
    "df3 = df2.fillna(0)"
   ]
  },
  {
   "cell_type": "code",
   "execution_count": 61,
   "metadata": {
    "collapsed": false
   },
   "outputs": [
    {
     "data": {
      "text/plain": [
       "0    601034\n",
       "1     14064\n",
       "Name: NEW_BAD, dtype: int64"
      ]
     },
     "execution_count": 61,
     "metadata": {},
     "output_type": "execute_result"
    }
   ],
   "source": [
    "df1.NEW_BAD.value_counts()"
   ]
  },
  {
   "cell_type": "code",
   "execution_count": 102,
   "metadata": {
    "collapsed": false
   },
   "outputs": [],
   "source": [
    "droplist2 = [i for i in df3.columns.values if i[4:15]=='PDUE_BUCKET']\n",
    "df3 = df3.drop(droplist2,1)"
   ]
  },
  {
   "cell_type": "code",
   "execution_count": 103,
   "metadata": {
    "collapsed": false
   },
   "outputs": [],
   "source": [
    "y= df3['NEW_BAD']\n",
    "X = df3.drop(['NEW_BAD','SEGMENT_PM2016'],1)\n",
    "X_train, X_test, y_train, y_test = train_test_split(\n",
    "             X, y, test_size=0.3, random_state=3243)"
   ]
  },
  {
   "cell_type": "code",
   "execution_count": 104,
   "metadata": {
    "collapsed": false
   },
   "outputs": [
    {
     "data": {
      "text/plain": [
       "2"
      ]
     },
     "execution_count": 104,
     "metadata": {},
     "output_type": "execute_result"
    }
   ],
   "source": []
  },
  {
   "cell_type": "markdown",
   "metadata": {},
   "source": [
    "#### alternatively, impute to median"
   ]
  },
  {
   "cell_type": "code",
   "execution_count": null,
   "metadata": {
    "collapsed": true
   },
   "outputs": [],
   "source": [
    "from sklearn.preprocessing import Imputer, MinMaxScaler\n",
    "imp = Imputer(missing_values='NaN', strategy='median')\n",
    "imp.fit(Xtrain)\n",
    "Xtrain=imp.transform(Xtrain)"
   ]
  },
  {
   "cell_type": "markdown",
   "metadata": {},
   "source": [
    "#### Run a quick random forest model to see if top predictors makes sense"
   ]
  },
  {
   "cell_type": "code",
   "execution_count": 105,
   "metadata": {
    "collapsed": false
   },
   "outputs": [
    {
     "name": "stdout",
     "output_type": "stream",
     "text": [
      "136.623786926\n"
     ]
    }
   ],
   "source": [
    "forest = RandomForestClassifier(     n_estimators=100, \n",
    "                                    #class_weight='balanced_subsample',\n",
    "                                    max_depth = 80,\n",
    "                                    min_samples_leaf=500,\n",
    "                                    #max_features=100,\n",
    "                                    n_jobs=-1)\n",
    "\n",
    "model = forest\n",
    "\n",
    "import time\n",
    "start = time.time()    \n",
    "model.fit(X_train,y_train)\n",
    "end = time.time()\n",
    "print(end - start)"
   ]
  },
  {
   "cell_type": "code",
   "execution_count": 106,
   "metadata": {
    "collapsed": false
   },
   "outputs": [
    {
     "name": "stdout",
     "output_type": "stream",
     "text": [
      "0.921454524363\n",
      "0.902421111868\n"
     ]
    }
   ],
   "source": [
    "proba= model.predict_proba(X_train)\n",
    "print roc_auc_score(y_train,proba[:,1])\n",
    "proba= model.predict_proba(X_test)\n",
    "print  roc_auc_score(y_test,proba[:,1])"
   ]
  },
  {
   "cell_type": "code",
   "execution_count": 107,
   "metadata": {
    "collapsed": false
   },
   "outputs": [
    {
     "data": {
      "image/png": "[encoded data removed]",
      "text/plain": [
       "<matplotlib.figure.Figure at 0x7f97d0496490>"
      ]
     },
     "metadata": {},
     "output_type": "display_data"
    }
   ],
   "source": [
    "%matplotlib inline\n",
    "import matplotlib.pyplot as plt\n",
    "feature_importance = model.feature_importances_\n",
    "cols = X_train.columns\n",
    "# make importances relative to max importance\n",
    "feature_importance = 100.0 * (feature_importance )#/ feature_importance.max())\n",
    "sorted_idx = np.argsort(feature_importance)[::-1]\n",
    "top_sorted_idx = sorted_idx[:20]\n",
    "pos = np.arange(top_sorted_idx.shape[0]) + .5\n",
    "#fig = plt.figure() \n",
    "plt.barh(pos, feature_importance[top_sorted_idx][::-1], align='center')\n",
    "plt.yticks(pos, cols[top_sorted_idx][::-1])\n",
    "plt.xlabel('Relative Importance')\n",
    "plt.title('Variable Importance')\n",
    "#plt.savefig(\"var_importance1.png\")\n",
    "plt.show()"
   ]
  },
  {
   "cell_type": "code",
   "execution_count": 108,
   "metadata": {
    "collapsed": false
   },
   "outputs": [],
   "source": [
    "top_sorted_idx = sorted_idx[:50]\n",
    "t1 = cols[top_sorted_idx].values\n",
    "t2 = feature_importance[top_sorted_idx]"
   ]
  },
  {
   "cell_type": "code",
   "execution_count": 122,
   "metadata": {
    "collapsed": false
   },
   "outputs": [
    {
     "data": {
      "text/plain": [
       "2599"
      ]
     },
     "execution_count": 122,
     "metadata": {},
     "output_type": "execute_result"
    }
   ],
   "source": [
    "sum([i > 0.0 for i in feature_importance])"
   ]
  },
  {
   "cell_type": "code",
   "execution_count": 113,
   "metadata": {
    "collapsed": false
   },
   "outputs": [
    {
     "data": {
      "text/plain": [
       "array([  33,  235,  451, ..., 1355, 1356, 1714])"
      ]
     },
     "execution_count": 113,
     "metadata": {},
     "output_type": "execute_result"
    }
   ],
   "source": [
    "np.argsort(feature_importance)[::-1]"
   ]
  },
  {
   "cell_type": "code",
   "execution_count": 119,
   "metadata": {
    "collapsed": false
   },
   "outputs": [
    {
     "data": {
      "text/plain": [
       "False"
      ]
     },
     "execution_count": 119,
     "metadata": {},
     "output_type": "execute_result"
    }
   ],
   "source": [
    "feature_importance[1355]>1.0"
   ]
  },
  {
   "cell_type": "code",
   "execution_count": 64,
   "metadata": {
    "collapsed": false
   },
   "outputs": [],
   "source": [
    "df2.to_csv('/data2/GMC/rgpm_allattrib_dev_cln2.csv',index=False)"
   ]
  },
  {
   "cell_type": "code",
   "execution_count": 66,
   "metadata": {
    "collapsed": true
   },
   "outputs": [
    {
     "ename": "AttributeError",
     "evalue": "'str' object has no attribute 'write'",
     "output_type": "error",
     "traceback": [
      "\u001b[1;31m---------------------------------------------------------------------------\u001b[0m",
      "\u001b[1;31mAttributeError\u001b[0m                            Traceback (most recent call last)",
      "\u001b[1;32m<ipython-input-66-5596d6d8ba9f>\u001b[0m in \u001b[0;36m<module>\u001b[1;34m()\u001b[0m\n\u001b[0;32m      1\u001b[0m \u001b[1;32mimport\u001b[0m \u001b[0mpickle\u001b[0m\u001b[1;33m\u001b[0m\u001b[0m\n\u001b[1;32m----> 2\u001b[1;33m \u001b[0mpickle\u001b[0m\u001b[1;33m.\u001b[0m\u001b[0mdump\u001b[0m\u001b[1;33m(\u001b[0m\u001b[0mdf2\u001b[0m\u001b[1;33m,\u001b[0m\u001b[1;34m'/data2/GMC/rgpm_allattrib_dev_cln2.pkl'\u001b[0m\u001b[1;33m)\u001b[0m\u001b[1;33m\u001b[0m\u001b[0m\n\u001b[0m",
      "\u001b[1;32m/PythonApp/anaconda1/lib/python2.7/pickle.pyc\u001b[0m in \u001b[0;36mdump\u001b[1;34m(obj, file, protocol)\u001b[0m\n\u001b[0;32m   1374\u001b[0m \u001b[1;33m\u001b[0m\u001b[0m\n\u001b[0;32m   1375\u001b[0m \u001b[1;32mdef\u001b[0m \u001b[0mdump\u001b[0m\u001b[1;33m(\u001b[0m\u001b[0mobj\u001b[0m\u001b[1;33m,\u001b[0m \u001b[0mfile\u001b[0m\u001b[1;33m,\u001b[0m \u001b[0mprotocol\u001b[0m\u001b[1;33m=\u001b[0m\u001b[0mNone\u001b[0m\u001b[1;33m)\u001b[0m\u001b[1;33m:\u001b[0m\u001b[1;33m\u001b[0m\u001b[0m\n\u001b[1;32m-> 1376\u001b[1;33m     \u001b[0mPickler\u001b[0m\u001b[1;33m(\u001b[0m\u001b[0mfile\u001b[0m\u001b[1;33m,\u001b[0m \u001b[0mprotocol\u001b[0m\u001b[1;33m)\u001b[0m\u001b[1;33m.\u001b[0m\u001b[0mdump\u001b[0m\u001b[1;33m(\u001b[0m\u001b[0mobj\u001b[0m\u001b[1;33m)\u001b[0m\u001b[1;33m\u001b[0m\u001b[0m\n\u001b[0m\u001b[0;32m   1377\u001b[0m \u001b[1;33m\u001b[0m\u001b[0m\n\u001b[0;32m   1378\u001b[0m \u001b[1;32mdef\u001b[0m \u001b[0mdumps\u001b[0m\u001b[1;33m(\u001b[0m\u001b[0mobj\u001b[0m\u001b[1;33m,\u001b[0m \u001b[0mprotocol\u001b[0m\u001b[1;33m=\u001b[0m\u001b[0mNone\u001b[0m\u001b[1;33m)\u001b[0m\u001b[1;33m:\u001b[0m\u001b[1;33m\u001b[0m\u001b[0m\n",
      "\u001b[1;32m/PythonApp/anaconda1/lib/python2.7/pickle.pyc\u001b[0m in \u001b[0;36m__init__\u001b[1;34m(self, file, protocol)\u001b[0m\n\u001b[0;32m    201\u001b[0m         \u001b[1;32melif\u001b[0m \u001b[1;32mnot\u001b[0m \u001b[1;36m0\u001b[0m \u001b[1;33m<=\u001b[0m \u001b[0mprotocol\u001b[0m \u001b[1;33m<=\u001b[0m \u001b[0mHIGHEST_PROTOCOL\u001b[0m\u001b[1;33m:\u001b[0m\u001b[1;33m\u001b[0m\u001b[0m\n\u001b[0;32m    202\u001b[0m             \u001b[1;32mraise\u001b[0m \u001b[0mValueError\u001b[0m\u001b[1;33m(\u001b[0m\u001b[1;34m\"pickle protocol must be <= %d\"\u001b[0m \u001b[1;33m%\u001b[0m \u001b[0mHIGHEST_PROTOCOL\u001b[0m\u001b[1;33m)\u001b[0m\u001b[1;33m\u001b[0m\u001b[0m\n\u001b[1;32m--> 203\u001b[1;33m         \u001b[0mself\u001b[0m\u001b[1;33m.\u001b[0m\u001b[0mwrite\u001b[0m \u001b[1;33m=\u001b[0m \u001b[0mfile\u001b[0m\u001b[1;33m.\u001b[0m\u001b[0mwrite\u001b[0m\u001b[1;33m\u001b[0m\u001b[0m\n\u001b[0m\u001b[0;32m    204\u001b[0m         \u001b[0mself\u001b[0m\u001b[1;33m.\u001b[0m\u001b[0mmemo\u001b[0m \u001b[1;33m=\u001b[0m \u001b[1;33m{\u001b[0m\u001b[1;33m}\u001b[0m\u001b[1;33m\u001b[0m\u001b[0m\n\u001b[0;32m    205\u001b[0m         \u001b[0mself\u001b[0m\u001b[1;33m.\u001b[0m\u001b[0mproto\u001b[0m \u001b[1;33m=\u001b[0m \u001b[0mint\u001b[0m\u001b[1;33m(\u001b[0m\u001b[0mprotocol\u001b[0m\u001b[1;33m)\u001b[0m\u001b[1;33m\u001b[0m\u001b[0m\n",
      "\u001b[1;31mAttributeError\u001b[0m: 'str' object has no attribute 'write'"
     ]
    }
   ],
   "source": [
    "import pickle\n",
    "pickle.dump(df2,'/data2/GMC/rgpm_allattrib_dev_cln2.pkl')"
   ]
  },
  {
   "cell_type": "code",
   "execution_count": 5,
   "metadata": {
    "collapsed": true
   },
   "outputs": [],
   "source": [
    "meta = pd.read_table('rgpm_allattrib_oot_meta.txt')"
   ]
  },
  {
   "cell_type": "code",
   "execution_count": 6,
   "metadata": {
    "collapsed": false
   },
   "outputs": [],
   "source": [
    "\n",
    "col = meta.Variable.values\n",
    "meta['pd_type'] = meta['Type'].map({'Num':np.float,'Char':str})\n",
    "meta.loc[meta['Format'].astype(str).map(lambda x:x[:4])=='MMDD','pd_type'] = str\n",
    "converter1 = meta.pd_type.to_dict()\n",
    "meta.pd_type = str\n",
    "converter2 = meta.pd_type.to_dict()"
   ]
  },
  {
   "cell_type": "code",
   "execution_count": 7,
   "metadata": {
    "collapsed": false
   },
   "outputs": [
    {
     "name": "stdout",
     "output_type": "stream",
     "text": [
      "207.732226133\n"
     ]
    }
   ],
   "source": [
    "###holdout_sample\n",
    "start = time.time()    \n",
    "dfh = pd.read_csv('/data2/GMC/rgpm_allattrib_oot_cln.csv',na_values=['.'],header= None,converters =converter2)\n",
    "dfh.columns = col\n",
    "dfh=dfh.set_index(dfh.Seqnum)\n",
    "dfh.shape\n",
    "end = time.time()\n",
    "print(end - start)"
   ]
  },
  {
   "cell_type": "code",
   "execution_count": 53,
   "metadata": {
    "collapsed": false
   },
   "outputs": [],
   "source": [
    "#keeplist= col[0][~col[0].isin(droplist2)].values"
   ]
  },
  {
   "cell_type": "code",
   "execution_count": 8,
   "metadata": {
    "collapsed": false
   },
   "outputs": [
    {
     "name": "stdout",
     "output_type": "stream",
     "text": [
      "120.094368935\n"
     ]
    }
   ],
   "source": [
    "start = time.time()  \n",
    "dfh = dfh.replace('.',np.nan)\n",
    "dfh = dfh.apply(lambda x: pd.to_numeric(x, errors='ignore'))\n",
    "end = time.time()\n",
    "print(end - start)\n",
    "#df_h.fillna('0',inplace=True)\n",
    "#df_h = df_h.replace(' ','0')"
   ]
  },
  {
   "cell_type": "code",
   "execution_count": 9,
   "metadata": {
    "collapsed": true
   },
   "outputs": [],
   "source": [
    "df1_short = pd.read_csv('/data2/GMC/rgpm_allattrib_dev_cln2.csv',nrows = 10)"
   ]
  },
  {
   "cell_type": "code",
   "execution_count": 10,
   "metadata": {
    "collapsed": true
   },
   "outputs": [],
   "source": [
    "def var_classfication(data):\n",
    "    var_object = data.dtypes[data.dtypes==object].index\n",
    "    var_date = [x for x in var_object if type(x)=='str' and x[-3:]=='dte' ]\n",
    "    var_nonnum = [x for x in var_object if x not in var_date]\n",
    "    var_num = data.dtypes[data.dtypes!=object].index\n",
    "    return var_date,var_nonnum,var_num\n",
    "\n",
    "var_date,var_nonnum,var_num = var_classfication(dfh)"
   ]
  },
  {
   "cell_type": "code",
   "execution_count": 11,
   "metadata": {
    "collapsed": false
   },
   "outputs": [
    {
     "data": {
      "text/plain": [
       "['BUSINESS_DATE',\n",
       " 'TCE_SIZE',\n",
       " 'ROLLUP_ID_TYPE',\n",
       " 'PRODUCT_TYPE_LEVEL1',\n",
       " 'PRODUCT_TYPE_LEVEL2',\n",
       " 'INT_ACCURAL_BASIS_CODE',\n",
       " 'INT_ACCURAL_BASIS_NAME',\n",
       " 'STOP_ACCRUAL_IND',\n",
       " 'PRODUCT_CORE_CLASS',\n",
       " 'PRODUCT_SUPER_CLASS',\n",
       " 'DD_DIRECT_DEPOSIT_IND',\n",
       " 'CD_BILLPAY_IND',\n",
       " 'DD_BILLPAY_IND',\n",
       " 'IRA_BILLPAY_IND',\n",
       " 'SV_BILLPAY_IND',\n",
       " 'CHRG_OFF_AMT_ind',\n",
       " 'account_open_ind',\n",
       " 'Actual_Archive_Date',\n",
       " 'BUSINESSDATE',\n",
       " 'NIXIE_B',\n",
       " 'NIXIE_C',\n",
       " 'Home_Based_Business_Ind',\n",
       " 'source',\n",
       " 'BASECAT',\n",
       " 'HISTORY',\n",
       " 'COND_IND',\n",
       " 'FINANCE',\n",
       " 'STMT_TYP',\n",
       " 'EAA_TYP',\n",
       " 'TIXIE',\n",
       " 'COMPTYPE',\n",
       " 'IMPORT',\n",
       " 'LOC_IND',\n",
       " 'HQBR_IND']"
      ]
     },
     "execution_count": 11,
     "metadata": {},
     "output_type": "execute_result"
    }
   ],
   "source": [
    "dummylist2 = [j for i,j in enumerate(dfh[var_nonnum]) if dfh[j].nunique()<=10]\n",
    "dummylist2"
   ]
  },
  {
   "cell_type": "code",
   "execution_count": 14,
   "metadata": {
    "collapsed": false
   },
   "outputs": [
    {
     "name": "stdout",
     "output_type": "stream",
     "text": [
      "(199115, 3621)\n"
     ]
    }
   ],
   "source": [
    "# create dummy variable\n",
    "dummy_matrix=pd.DataFrame()\n",
    "nan_map = lambda x: 0 if x!= x else x\n",
    "for j in dummylist2:\n",
    "    dummy = pd.get_dummies(dfh[j].map(nan_map),prefix=j)\n",
    "    dummy_matrix = pd.concat([dummy_matrix,dummy],1)\n",
    "dummy_matrix.head()\n",
    "\n",
    "df_h2=pd.concat([dfh[var_num],dummy_matrix],1)\n",
    "print df_h2.shape"
   ]
  },
  {
   "cell_type": "code",
   "execution_count": 15,
   "metadata": {
    "collapsed": false
   },
   "outputs": [
    {
     "name": "stdout",
     "output_type": "stream",
     "text": [
      "set(['STOP_ACCRUAL_IND_Y', 'BUSINESS_DATE_07/31/2015', 'ROLLUP_ID_TYPE_TIN', 'STOP_ACCRUAL_IND_N', 'TCE_SIZE_2MM-5MM', 'NIXIE_C_5', 'NIXIE_C_4', 'NIXIE_C_1', 'NIXIE_C_0', 'NIXIE_C_3', 'NIXIE_C_2', 'INT_ACCURAL_BASIS_CODE_1', 'INT_ACCURAL_BASIS_CODE_3', 'INT_ACCURAL_BASIS_CODE_5', 'INT_ACCURAL_BASIS_CODE_4', 'PRODUCT_TYPE_LEVEL2_LINE OF CREDIT - SECURED', 'INT_ACCURAL_BASIS_CODE_6', 'PRODUCT_TYPE_LEVEL1_TERM', 'PRODUCT_SUPER_CLASS_COMMERCIAL', 'INT_ACCURAL_BASIS_NAME_ACT/365', 'NIXIE_C_ ', 'INT_ACCURAL_BASIS_NAME_ACT/366', 'INT_ACCURAL_BASIS_CODE_ ', 'PRODUCT_SUPER_CLASS_COMMERCIAL LOANS & LEASES', 'BUSINESSDATE_0', 'BUSINESSDATE_07/31/2015', 'INT_ACCURAL_BASIS_CODE_N/A', 'INT_ACCURAL_BASIS_NAME_3', 'INT_ACCURAL_BASIS_NAME_1', 'source_Unmatched', 'PRODUCT_TYPE_LEVEL2_FLEXLINE - UNSECURED', 'INT_ACCURAL_BASIS_NAME_ ', 'INT_ACCURAL_BASIS_NAME_N/A', 'COMPTYPE_H', 'COMPTYPE_I', 'COMPTYPE_G', 'TCE_SIZE_>5MM', 'Actual_Archive_Date_ ', 'PRODUCT_TYPE_LEVEL1_LINE', 'AR_ID', 'Home_Based_Business_Ind_Y', 'Actual_Archive_Date_201507', 'Actual_Archive_Date_201506', 'Actual_Archive_Date_201508', 'Home_Based_Business_Ind_N', 'ROLLUP_ID_TYPE_FIX-OBG', 'COMPTYPE_ ', 'source_Matched', 'ROLLUP_ID_TYPE_FIX-TIN', 'HISTORY_N', 'HISTORY_O', 'EAA_TYP_A', 'EAA_TYP_B', 'NIXIE_C_9', 'ROLLUP_ID_TYPE_IP_ID', 'STMT_TYP_ ', 'HISTORY_P', 'HISTORY_Q', 'PRODUCT_SUPER_CLASS_LETTERS OF CREDIT', 'INT_ACCURAL_BASIS_NAME_ACT/360', 'PRODUCT_CORE_CLASS_CRE LOANS', 'BUSINESSDATE_06/30/2015', 'FINANCE_R', 'FINANCE_S', 'PRODUCT_TYPE_LEVEL2_TERM - UNSECURED', 'BUSINESSDATE_08/31/2015', 'FINANCE_ ', 'PRODUCT_CORE_CLASS_LETTERS OF CREDIT', 'BUSINESS_DATE_08/31/2015', 'EAA_TYP_ ', 'BUSINESS_DATE_06/30/2015', 'STMT_TYP_Y', 'HISTORY_ ', 'STMT_TYP_B', 'STMT_TYP_A', 'SIC_Profile_Code', 'STMT_TYP_I', 'STMT_TYP_H', 'NIXIE_B_ ', 'IP_ID', 'NIXIE_B_9', 'PRODUCT_TYPE_LEVEL2_TERM - SECURED', 'NIXIE_B_0', 'NIXIE_B_1', 'COND_IND_ ', 'PRODUCT_CORE_CLASS_COMMERCIAL LOANS & LEASES', 'INT_ACCURAL_BASIS_NAME_30/360', 'PRODUCT_TYPE_LEVEL2_LINE OF CREDIT - UNSECURED', 'COND_IND_U', 'COND_IND_T', 'COND_IND_W', 'COND_IND_V', 'source_Matched No Hit', 'PRODUCT_TYPE_LEVEL2_FLEXLINE - SECURED', 'TCE_SIZE_<2MM'])\n",
      "set(['NEW_BAD'])\n"
     ]
    }
   ],
   "source": [
    "print set(df_h2.columns) - set(df1_short.columns)\n",
    "print set(df1_short.columns) - set(df_h2.columns)"
   ]
  },
  {
   "cell_type": "markdown",
   "metadata": {},
   "source": [
    "#### Check if any difference in attribute list between train and validation dataset "
   ]
  },
  {
   "cell_type": "code",
   "execution_count": 16,
   "metadata": {
    "collapsed": false
   },
   "outputs": [],
   "source": [
    "misscolumn = (set(df1_short.columns) - set(df_h2.columns)) \n",
    "for a in misscolumn:\n",
    "             df_h2[a]=0\n",
    "df_h2 = df_h2[df1_short.columns]\n",
    "\n"
   ]
  },
  {
   "cell_type": "code",
   "execution_count": 19,
   "metadata": {
    "collapsed": false
   },
   "outputs": [
    {
     "data": {
      "text/plain": [
       "(199115, 3515)"
      ]
     },
     "execution_count": 19,
     "metadata": {},
     "output_type": "execute_result"
    }
   ],
   "source": [
    "droplist2 = [i for i in df_h2.columns.values if i[4:15]=='PDUE_BUCKET']\n",
    "df_h2 = df_h2.drop(droplist2,1)\n",
    "df_h2.shape"
   ]
  },
  {
   "cell_type": "code",
   "execution_count": 21,
   "metadata": {
    "collapsed": true
   },
   "outputs": [],
   "source": [
    "df_h2.to_csv('/data2/GMC/rgpm_allattrib_oot_cln2.csv',index=False)"
   ]
  },
  {
   "cell_type": "markdown",
   "metadata": {},
   "source": [
    "###### Another validation dataset. Don't use"
   ]
  },
  {
   "cell_type": "code",
   "execution_count": 10,
   "metadata": {
    "collapsed": true
   },
   "outputs": [],
   "source": [
    "df_h = pd.read_csv('/data2/GMC/bfs_capital_ml_no_perf.csv',header= None,converters = {'.':0})"
   ]
  },
  {
   "cell_type": "code",
   "execution_count": 5,
   "metadata": {
    "collapsed": true
   },
   "outputs": [],
   "source": [
    "df2 = pd.read_csv('/data2/GMC/sbfe_ml_train.csv')"
   ]
  },
  {
   "cell_type": "code",
   "execution_count": 40,
   "metadata": {
    "collapsed": false
   },
   "outputs": [
    {
     "name": "stdout",
     "output_type": "stream",
     "text": [
      "(7336, 1317)\n",
      "set(['INQCS', 'BNKRPTDT', 'SMSACODE', 'CONTROL', 'ACTUAL_ARCHIVE_DATE', 'INQREG', 'PHONE', 'EAADATE', 'BASEDATE', 'FBASEDAT', 'DATE_IND_0', 'DATE_IND_I', 'DATE_IND_D', 'LEADID', 'YRSTART', 'DATE_IND_T', 'DATE_OB', 'ZIP_CODE', 'STMTDATE', 'DATE_BD', 'HQ_DUNS', 'DUNS_NUMBER'])\n",
      "set(['STMT_TYP_Y', 'STMT_TYP_X', 'EAA_TYP_H', 'BAD', 'STMT_TYP_I', 'STMT_TYP_H', 'BAD_CO'])\n",
      "(7336, 1302)\n"
     ]
    }
   ],
   "source": [
    "col = pd.read_clipboard(header=None)\n",
    "df_h.columns = col[0].map(lambda x:x.upper()).values\n",
    "df_h = df_h.set_index(df_h.LEADID)\n",
    "df_h = df_h.replace('.',0)\n",
    "df_h = df_h.apply(lambda x: pd.to_numeric(x, errors='ignore'))\n",
    "df_h.fillna('0',inplace=True)\n",
    "df_h = df_h.replace(' ','0')\n",
    "\n",
    "def var_classfication(data):\n",
    "    var_object = data.dtypes[data.dtypes==object].index\n",
    "    var_date = [x for x in var_object if x[-3:]=='dte']\n",
    "    var_nonnum = [x for x in var_object if x not in var_date]\n",
    "    var_num = data.dtypes[data.dtypes!=object].index\n",
    "    return var_date,var_nonnum,var_num\n",
    "\n",
    "var_date,var_nonnum,var_num = var_classfication(df_h)\n",
    "\n",
    "dummylist2 = [j for i,j in enumerate(df_h[var_nonnum]) if df_h[j].nunique()<=10]\n",
    "dummy_matrix=pd.DataFrame()\n",
    "nan_map = lambda x: 0 if x!= x else x\n",
    "for j in dummylist2:\n",
    "    dummy = pd.get_dummies(df_h[j].map(nan_map),prefix=j)\n",
    "    dummy_matrix = pd.concat([dummy_matrix,dummy],1)\n",
    "dummy_matrix.head()\n",
    "\n",
    "df_h2=pd.concat([df_h[var_num],dummy_matrix],1)\n",
    "print df_h2.shape\n",
    "df2.columns = df2.columns.map(lambda x:x.upper())\n",
    "print set(df_h2.columns) - set(df2.columns)\n",
    "print set(df2.columns) - set(df_h2.columns)\n",
    "misscolumn = set(df2.columns) - set(df_h2.columns)\n",
    "for a in misscolumn:\n",
    "             df_h2[a]=0\n",
    "df_h2 = df_h2[df2.columns]\n",
    "print df_h2.shape"
   ]
  },
  {
   "cell_type": "code",
   "execution_count": 43,
   "metadata": {
    "collapsed": true
   },
   "outputs": [],
   "source": [
    "df_h2.to_csv('/data2/GMC/sbfe_ml_valid2.csv')\n"
   ]
  }
 ],
 "metadata": {
  "kernelspec": {
   "display_name": "Python 2",
   "language": "python",
   "name": "python2"
  },
  "language_info": {
   "codemirror_mode": {
    "name": "ipython",
    "version": 2
   },
   "file_extension": ".py",
   "mimetype": "text/x-python",
   "name": "python",
   "nbconvert_exporter": "python",
   "pygments_lexer": "ipython2",
   "version": "2.7.11"
  }
 },
 "nbformat": 4,
 "nbformat_minor": 0
}

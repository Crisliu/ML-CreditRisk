{
 "cells": [
  {
   "cell_type": "markdown",
   "metadata": {},
   "source": [
    "#### Load packages"
   ]
  },
  {
   "cell_type": "code",
   "execution_count": 23,
   "metadata": {
    "collapsed": false
   },
   "outputs": [],
   "source": [
    "import pandas as pd\n",
    "import numpy as np\n",
    "import matplotlib.pyplot as plt\n",
    "from sklearn.metrics import roc_curve, auc\n",
    "from sklearn.cross_validation import train_test_split\n",
    "from sklearn.cross_validation import StratifiedKFold\n",
    "from sklearn.metrics import confusion_matrix\n",
    "from sklearn.metrics import roc_auc_score\n",
    "from sklearn.metrics import f1_score\n",
    "from sklearn.metrics import precision_recall_curve\n",
    "from scipy import interp\n",
    "import pandas.core.algorithms as algos \n",
    "from sklearn.preprocessing import label_binarize\n",
    "from sklearn.preprocessing import LabelEncoder\n",
    "from sklearn.ensemble import RandomForestClassifier\n",
    "from sklearn.linear_model import LogisticRegression\n",
    "import time\n",
    "import sys\n",
    "sys.path.append('/data1/pypackages_cris ')\n"
   ]
  },
  {
   "cell_type": "markdown",
   "metadata": {},
   "source": [
    "#### Create functions "
   ]
  },
  {
   "cell_type": "code",
   "execution_count": 24,
   "metadata": {
    "collapsed": false
   },
   "outputs": [],
   "source": [
    "from sklearn.metrics import make_scorer\n",
    "def my_custom_loss_func(y_true,y_pred):\n",
    "    \n",
    "    D = pd.DataFrame(y_pred[:, 1],columns = ['y_prob_inc'])\n",
    "    E = pd.DataFrame(y_true.values,columns=['Actual_Inc'])\n",
    "    Results = pd.concat([D,E],1)\n",
    "    del D,E\n",
    "    bcut = [1,.9,0]\n",
    "    label = ['top 10%','rest'][::-1]\n",
    "    bins = np.unique(algos.quantile(Results['y_prob_inc'],bcut))\n",
    "    if len(label) != len(bins) - 1:\n",
    "        return 0\n",
    "    else:\n",
    "        Results['decile_inc']  = pd.tools.tile._bins_to_cuts(Results['y_prob_inc'], bins,labels=label, include_lowest=True)\n",
    "\n",
    "        #Results['decile_inc'] = pd.qcut(Results.y_prob_inc,10,labels=range(10))\n",
    "        top = Results[Results['decile_inc'] =='top 10%'] \n",
    "        #ults.groupby(['decile_inc'])['y_prob_inc'].describe()\n",
    "        return float(top[top['Actual_Inc'] == 1].shape[0])/float(Results[Results['Actual_Inc'] == 1].shape[0])\n",
    "    \n",
    "def my_custom_loss_func2(y_true,y_pred):\n",
    "    \n",
    "    D = pd.DataFrame(y_pred[:, 1],columns = ['y_prob_inc'])\n",
    "    E = pd.DataFrame(y_true.values,columns=['Actual_Inc'])\n",
    "    Results = pd.concat([D,E],1)\n",
    "    del D,E\n",
    "    bcut = [1,.8,0]\n",
    "    label = ['top 20%','rest'][::-1]\n",
    "    bins = np.unique(algos.quantile(Results['y_prob_inc'],bcut))\n",
    "    if len(label) != len(bins) - 1:\n",
    "        return 0\n",
    "    else:\n",
    "        Results['decile_inc']  = pd.tools.tile._bins_to_cuts(Results['y_prob_inc'], bins,labels=label, include_lowest=True)\n",
    "\n",
    "        #Results['decile_inc'] = pd.qcut(Results.y_prob_inc,10,labels=range(10))\n",
    "        top = Results[Results['decile_inc'] =='top 20%'] \n",
    "        #ults.groupby(['decile_inc'])['y_prob_inc'].describe()\n",
    "        return float(top[top['Actual_Inc'] == 1].shape[0])/float(Results[Results['Actual_Inc'] == 1].shape[0])\n",
    "\n",
    "def cust_scorer():\n",
    "    return make_scorer(my_custom_loss_func, greater_is_better=True,needs_proba=True)\n",
    "from sklearn.metrics import make_scorer\n",
    "def my_custom_loss_func(y_true,y_pred):\n",
    "    \n",
    "    D = pd.DataFrame(y_pred[:, 1],columns = ['y_prob_inc'])\n",
    "    E = pd.DataFrame(y_true.values,columns=['Actual_Inc'])\n",
    "    Results = pd.concat([D,E],1)\n",
    "    del D,E\n",
    "    bcut = [1,.9,0]\n",
    "    label = ['top 10%','rest'][::-1]\n",
    "    bins = np.unique(algos.quantile(Results['y_prob_inc'],bcut))\n",
    "    if len(label) != len(bins) - 1:\n",
    "        return 0\n",
    "    else:\n",
    "        Results['decile_inc']  = pd.tools.tile._bins_to_cuts(Results['y_prob_inc'], bins,labels=label, include_lowest=True)\n",
    "\n",
    "        #Results['decile_inc'] = pd.qcut(Results.y_prob_inc,10,labels=range(10))\n",
    "        top = Results[Results['decile_inc'] =='top 10%'] \n",
    "        #ults.groupby(['decile_inc'])['y_prob_inc'].describe()\n",
    "        return float(top[top['Actual_Inc'] == 1].shape[0])/float(Results[Results['Actual_Inc'] == 1].shape[0])\n",
    "    \n",
    "def my_custom_loss_func2(y_true,y_pred):\n",
    "    \n",
    "    D = pd.DataFrame(y_pred[:, 1],columns = ['y_prob_inc'])\n",
    "    E = pd.DataFrame(y_true.values,columns=['Actual_Inc'])\n",
    "    Results = pd.concat([D,E],1)\n",
    "    del D,E\n",
    "    bcut = [1,.8,0]\n",
    "    label = ['top 20%','rest'][::-1]\n",
    "    bins = np.unique(algos.quantile(Results['y_prob_inc'],bcut))\n",
    "    if len(label) != len(bins) - 1:\n",
    "        return 0\n",
    "    else:\n",
    "        Results['decile_inc']  = pd.tools.tile._bins_to_cuts(Results['y_prob_inc'], bins,labels=label, include_lowest=True)\n",
    "\n",
    "        #Results['decile_inc'] = pd.qcut(Results.y_prob_inc,10,labels=range(10))\n",
    "        top = Results[Results['decile_inc'] =='top 20%'] \n",
    "        #ults.groupby(['decile_inc'])['y_prob_inc'].describe()\n",
    "        return float(top[top['Actual_Inc'] == 1].shape[0])/float(Results[Results['Actual_Inc'] == 1].shape[0])\n",
    "\n",
    "def cust_scorer():\n",
    "    return make_scorer(my_custom_loss_func, greater_is_better=True,needs_proba=True)\n",
    "\n",
    "def assessment2(Results,num_bins):\n",
    "        bins = np.unique(algos.quantile(Results['y_prob_inc'], np.linspace(0, 1, num_bins)))\n",
    "        Results['decile']  = pd.tools.tile._bins_to_cuts(Results['y_prob_inc'], bins,labels=np.arange( 0,len(bins)-1,1)[::-1], include_lowest=True)\n",
    "        group = Results.groupby(['decile','Actual_Inc'])\n",
    "        Results2 = group.Actual_Inc.count().unstack().fillna(0).sort_index(ascending=False)\n",
    "        Results2.columns = ['Negative','Positive']\n",
    "        Total_neg,Total_pos = Results2.sum()[0],Results2.sum()[1]\n",
    "        Total_neg,Total_pos = Results2.Negative.sum(),Results2.Positive.sum()\n",
    "        Results2['Neg_perc'] = Results2['Negative']/Total_neg\n",
    "        Results2['Pos_perc'] = Results2['Positive']/Total_pos\n",
    "        Results2['Total_perc'] = (Results2['Negative']+Results2['Positive'])/(Total_neg+Total_pos)\n",
    "        Results2['Cul_neg_perc'] = Results2['Neg_perc'].cumsum(axis=0)\n",
    "        Results2['Cul_pos_perc'] = Results2['Pos_perc'].cumsum(axis=0)\n",
    "        Results2['Cul_tot_perc'] = Results2['Total_perc'].cumsum(axis=0)\n",
    "        Results2['Lift_perc'] = (Results2['Cul_pos_perc']+0.0001)/(Results2['Cul_neg_perc']+0.0001)\n",
    "        Results2['ratio'] =  (Results2['Pos_perc']+0.0001)/(Results2['Neg_perc']+0.0001)\n",
    "        # Gain chart: Cumulative %pos and Cummulative %Population\n",
    "        # Lift chart: Decile & model\n",
    "        KS_value = max(Results2['Cul_pos_perc']-Results2['Cul_neg_perc'])\n",
    "        #print 'KS value :{0}'.format(KS_value) \n",
    "        #Results2['KS_value'] = KS_value\n",
    "        num_dec = sum(x>=y for x, y in zip(Results2['ratio'], Results2['ratio'][1:]))\n",
    "        #print \"{0} out of {1} is strictly decreasing\".format(num_dec,len(Results2['ratio'])-1) \n",
    "        mono = str(num_dec)+' out of '+str(len(Results2['ratio'])-1)\n",
    "        #Results2['mono'] =mono\n",
    "        #print \"KS_value: \",KS_value\n",
    "        #print \"monotonicity: \",mono\n",
    "       \n",
    " \n",
    "        \n",
    "        return KS_value"
   ]
  },
  {
   "cell_type": "markdown",
   "metadata": {
    "collapsed": true
   },
   "source": [
    "#### Read cleaned data"
   ]
  },
  {
   "cell_type": "code",
   "execution_count": 26,
   "metadata": {
    "collapsed": false
   },
   "outputs": [],
   "source": [
    "df2 = pd.read_csv('/data2/GMC/rgpm_allattrib_dev_cln2.csv')\n",
    "df_h2 = pd.read_csv('/data2/GMC/rgpm_allattrib_oot_cln2.csv')"
   ]
  },
  {
   "cell_type": "code",
   "execution_count": 6,
   "metadata": {
    "collapsed": true
   },
   "outputs": [],
   "source": [
    "droplist2 = [i for i in df2.columns.values if i[4:15]=='PDUE_BUCKET']\n",
    "df2 = df2.drop(droplist2,1)\n",
    "df2 = df2.drop(droplist2,1)\n",
    "y= df2['NEW_BAD']\n",
    "X = df2.drop(['NEW_BAD','SEGMENT_PM2016'],1)\n",
    "Xh = df_h2.drop(['NEW_BAD','SEGMENT_PM2016'],1)\n"
   ]
  },
  {
   "cell_type": "code",
   "execution_count": 35,
   "metadata": {
    "collapsed": false
   },
   "outputs": [],
   "source": [
    "keeplist1 = pd.read_table('regions_keeplist',header=None)[0].values\n",
    "#df3 = df2[keeplist1]\n",
    "y= df2['NEW_BAD']\n",
    "X = df2[keeplist1]\n",
    "Xh = df_h2[keeplist1]"
   ]
  },
  {
   "cell_type": "markdown",
   "metadata": {},
   "source": [
    "#### Define X & y and split to train & test"
   ]
  },
  {
   "cell_type": "code",
   "execution_count": 36,
   "metadata": {
    "collapsed": false
   },
   "outputs": [],
   "source": [
    "X_train, X_test, y_train, y_test = train_test_split(\n",
    "             X, y, test_size=0.3, random_state=3523)"
   ]
  },
  {
   "cell_type": "code",
   "execution_count": 37,
   "metadata": {
    "collapsed": false
   },
   "outputs": [
    {
     "name": "stdout",
     "output_type": "stream",
     "text": [
      "(199115, 1385)\n",
      "(615098, 1385)\n"
     ]
    }
   ],
   "source": [
    "print Xh.shape\n",
    "print X.shape\n"
   ]
  },
  {
   "cell_type": "code",
   "execution_count": 38,
   "metadata": {
    "collapsed": false
   },
   "outputs": [
    {
     "name": "stdout",
     "output_type": "stream",
     "text": [
      "0    0.977135\n",
      "1    0.022865\n",
      "Name: NEW_BAD, dtype: float64\n",
      "0    1\n",
      "Name: NEW_BAD, dtype: float64\n"
     ]
    }
   ],
   "source": [
    "print df2.NEW_BAD.value_counts(normalize=True)\n",
    "print df_h2.NEW_BAD.value_counts(normalize=True)"
   ]
  },
  {
   "cell_type": "code",
   "execution_count": 39,
   "metadata": {
    "collapsed": false
   },
   "outputs": [
    {
     "data": {
      "text/plain": [
       "set()"
      ]
     },
     "execution_count": 39,
     "metadata": {},
     "output_type": "execute_result"
    }
   ],
   "source": [
    "set(Xh.columns) - set(X.columns)"
   ]
  },
  {
   "cell_type": "markdown",
   "metadata": {},
   "source": [
    "#### Run different ML algorithm"
   ]
  },
  {
   "cell_type": "markdown",
   "metadata": {},
   "source": [
    "##### Random forest"
   ]
  },
  {
   "cell_type": "code",
   "execution_count": 40,
   "metadata": {
    "collapsed": false
   },
   "outputs": [
    {
     "name": "stdout",
     "output_type": "stream",
     "text": [
      "214.895590067\n"
     ]
    }
   ],
   "source": [
    "X_train = X_train.fillna(0)\n",
    "X_test = X_test.fillna(0)\n",
    "forest = RandomForestClassifier(n_estimators=500, \n",
    "                                    #class_weight='balanced_subsample',\n",
    "                                    max_depth = 80,\n",
    "                                    min_samples_leaf=500,\n",
    "                                    #max_features=100,\n",
    "                                    n_jobs=-1)\n",
    "\n",
    "model = forest\n",
    "\n",
    "import time\n",
    "start = time.time()    \n",
    "model.fit(X_train,y_train)\n",
    "end = time.time()\n",
    "print(end - start)"
   ]
  },
  {
   "cell_type": "markdown",
   "metadata": {},
   "source": [
    "##### Xgboost"
   ]
  },
  {
   "cell_type": "code",
   "execution_count": 19,
   "metadata": {
    "collapsed": false
   },
   "outputs": [
    {
     "name": "stdout",
     "output_type": "stream",
     "text": [
      "6.61329245441\n"
     ]
    }
   ],
   "source": [
    "import math\n",
    "bad_rate = float(len(y[y==1]))/len(y)\n",
    "min_child_weight=1/math.sqrt(bad_rate)\n",
    "print min_child_weight"
   ]
  },
  {
   "cell_type": "code",
   "execution_count": 32,
   "metadata": {
    "collapsed": false
   },
   "outputs": [
    {
     "name": "stdout",
     "output_type": "stream",
     "text": [
      "545.667114973\n"
     ]
    }
   ],
   "source": [
    "import xgboost as xgb\n",
    "from xgboost.sklearn import XGBClassifier\n",
    "\n",
    "xgb1=XGBClassifier(learning_rate=0.1, n_estimators=100,max_depth = 8,subsample=0.8, colsample_bytree =0.5)\n",
    "model = xgb1\n",
    "import time\n",
    "start = time.time()    \n",
    "model.fit(X_train,y_train)\n",
    "end = time.time()\n",
    "print(end - start)"
   ]
  },
  {
   "cell_type": "markdown",
   "metadata": {},
   "source": [
    "#### Run gradient boosting"
   ]
  },
  {
   "cell_type": "code",
   "execution_count": 40,
   "metadata": {
    "collapsed": false
   },
   "outputs": [
    {
     "name": "stdout",
     "output_type": "stream",
     "text": [
      "860.400943041\n"
     ]
    }
   ],
   "source": [
    "from sklearn.ensemble import GradientBoostingClassifier\n",
    "\n",
    "gbc1=GradientBoostingClassifier(learning_rate=0.05, n_estimators=200,max_depth = 3,subsample=0.8)\n",
    "model = gbc1\n",
    "import time\n",
    "start = time.time()    \n",
    "model.fit(X_train,y_train)\n",
    "end = time.time()\n",
    "print(end - start)"
   ]
  },
  {
   "cell_type": "code",
   "execution_count": 26,
   "metadata": {
    "collapsed": false
   },
   "outputs": [
    {
     "name": "stdout",
     "output_type": "stream",
     "text": [
      "3854.47664595\n"
     ]
    }
   ],
   "source": [
    "from sklearn.ensemble import GradientBoostingClassifier\n",
    "\n",
    "gbc2=GradientBoostingClassifier(learning_rate=0.1, n_estimators=100,max_depth = 10,subsample=1)\n",
    "model = gbc2\n",
    "import time\n",
    "start = time.time()    \n",
    "model.fit(X_train,y_train)\n",
    "end = time.time()\n",
    "print(end - start)"
   ]
  },
  {
   "cell_type": "markdown",
   "metadata": {},
   "source": [
    "#### Evaluate Performance:  KS, ROC, top10 and 20 capture"
   ]
  },
  {
   "cell_type": "code",
   "execution_count": 41,
   "metadata": {
    "collapsed": false
   },
   "outputs": [
    {
     "name": "stdout",
     "output_type": "stream",
     "text": [
      "         KS_value       ROC  Top_10%_capture  Top_20%_capture\n",
      "Train    0.682072  0.921978         0.684269         0.866504\n",
      "Holdout  0.655704  0.909994         0.656988         0.840652\n"
     ]
    }
   ],
   "source": [
    "\n",
    "proba= model.predict_proba(X_train)\n",
    "\n",
    "D = pd.DataFrame(proba.T[1],columns = ['y_prob_inc'])\n",
    "E = pd.DataFrame(y_train.values,columns=['Actual_Inc'])\n",
    "Results = pd.concat([D,E],1)\n",
    "r1 = assessment2(Results,11)\n",
    "r2 = roc_auc_score(y_train,proba[:,1])\n",
    "r3 =  my_custom_loss_func(y_train,proba)\n",
    "r4 = my_custom_loss_func2(y_train,proba)\n",
    "Result_train = (r1,r2,r3,r4)\n",
    "\n",
    "proba= model.predict_proba(X_test)\n",
    "D = pd.DataFrame(proba.T[1],columns = ['y_prob_inc'])\n",
    "E = pd.DataFrame(y_test.values,columns=['Actual_Inc'])\n",
    "Results = pd.concat([D,E],1)\n",
    "r1 = assessment2(Results,11)\n",
    "r2 = roc_auc_score(y_test,proba[:,1])\n",
    "r3 = my_custom_loss_func(y_test,proba)\n",
    "r4 = my_custom_loss_func2(y_test,proba)\n",
    "Result_test = (r1,r2,r3,r4)\n",
    "\"\"\"\n",
    "proba= model.predict_proba(Xh)\n",
    "D = pd.DataFrame(proba.T[1],columns = ['y_prob_inc'])\n",
    "E = pd.DataFrame(yh.values,columns=['Actual_Inc'])\n",
    "Results = pd.concat([D,E],1)\n",
    "r1 = assessment2(Results,11)\n",
    "r2 = roc_auc_score(yh,proba[:,1])\n",
    "r3 = my_custom_loss_func(yh,proba)\n",
    "r4 = my_custom_loss_func2(yh,proba)\n",
    "Result_valid1 = (r1,r2,r3,r4)\"\"\"\n",
    "\n",
    "Result_final = pd.DataFrame()\n",
    "Result_final['Train'] = pd.Series(Result_train)\n",
    "Result_final['Holdout'] = pd.Series(Result_test)\n",
    "#Result_final['Validation1'] = pd.Series(Result_valid1)\n",
    "Result_final = Result_final.T\n",
    "Result_final.columns =['KS_value', 'ROC', 'Top_10%_capture','Top_20%_capture']\n",
    "print Result_final"
   ]
  },
  {
   "cell_type": "markdown",
   "metadata": {},
   "source": [
    "#### Save the score code for later use"
   ]
  },
  {
   "cell_type": "code",
   "execution_count": 24,
   "metadata": {
    "collapsed": true
   },
   "outputs": [],
   "source": [
    "from sklearn.externals import joblib\n",
    "d = joblib.dump(model, '/data2/GMC/sales_model/pickle/region_xgb1.pkl') "
   ]
  },
  {
   "cell_type": "code",
   "execution_count": 34,
   "metadata": {
    "collapsed": true
   },
   "outputs": [],
   "source": [
    "from sklearn.externals import joblib\n",
    "d = joblib.dump(model, '/data2/GMC/sales_model/pickle/region_xgb2.pkl') "
   ]
  },
  {
   "cell_type": "code",
   "execution_count": 31,
   "metadata": {
    "collapsed": true
   },
   "outputs": [],
   "source": [
    "from sklearn.externals import joblib\n",
    "d = joblib.dump(model, '/data2/GMC/sales_model/pickle/region_xgb3.pkl') "
   ]
  },
  {
   "cell_type": "code",
   "execution_count": 42,
   "metadata": {
    "collapsed": true
   },
   "outputs": [],
   "source": [
    "from sklearn.externals import joblib\n",
    "d = joblib.dump(model, '/data2/GMC/sales_model/pickle/region_rf1.pkl') "
   ]
  },
  {
   "cell_type": "code",
   "execution_count": 39,
   "metadata": {
    "collapsed": true
   },
   "outputs": [],
   "source": [
    "from sklearn.externals import joblib\n",
    "d = joblib.dump(model, '/data2/GMC/sales_model/pickle/region_rf2.pkl') "
   ]
  },
  {
   "cell_type": "markdown",
   "metadata": {},
   "source": [
    "#### Load the score code, and score validation dataset"
   ]
  },
  {
   "cell_type": "code",
   "execution_count": 43,
   "metadata": {
    "collapsed": false
   },
   "outputs": [],
   "source": [
    "model = joblib.load('/data2/GMC/sales_model/pickle/region_xgb1.pkl') \n",
    "score = model.predict_proba(Xh)[:,1]"
   ]
  },
  {
   "cell_type": "code",
   "execution_count": null,
   "metadata": {
    "collapsed": true
   },
   "outputs": [],
   "source": [
    "model = joblib.load('/data2/GMC/sales_model/pickle/region_xgb2.pkl') \n",
    "score2 = model.predict_proba(Xh)[:,1]"
   ]
  },
  {
   "cell_type": "code",
   "execution_count": null,
   "metadata": {
    "collapsed": true
   },
   "outputs": [],
   "source": [
    "model = joblib.load('/data2/GMC/sales_model/pickle/region_xgb3.pkl') \n",
    "score3 = model.predict_proba(Xh)[:,1]"
   ]
  },
  {
   "cell_type": "code",
   "execution_count": null,
   "metadata": {
    "collapsed": true
   },
   "outputs": [],
   "source": [
    "model = joblib.load('/data2/GMC/sales_model/pickle/region_rf1.pkl') \n",
    "score4 = model.predict_proba(Xh)[:,1]"
   ]
  },
  {
   "cell_type": "code",
   "execution_count": null,
   "metadata": {
    "collapsed": true
   },
   "outputs": [],
   "source": [
    "model = joblib.load('/data2/GMC/sales_model/pickle/region_rf2.pkl') \n",
    "score5 = model.predict_proba(Xh)[:,1]"
   ]
  },
  {
   "cell_type": "code",
   "execution_count": null,
   "metadata": {
    "collapsed": true
   },
   "outputs": [],
   "source": [
    "output = pd.concat([pd.Series(score),pd.Series(score2),pd.Series(score3),pd.Series(score4),pd.Series(score5)],1)"
   ]
  },
  {
   "cell_type": "code",
   "execution_count": 76,
   "metadata": {
    "collapsed": false
   },
   "outputs": [],
   "source": [
    "output.index = Xh.Seqnum.values\n",
    "output.columns = ['score1','score2','score3','score4','score5']\n",
    "output.to_csv('regions_ml_result1.csv')"
   ]
  },
  {
   "cell_type": "markdown",
   "metadata": {},
   "source": [
    "#### Variable importance"
   ]
  },
  {
   "cell_type": "code",
   "execution_count": 11,
   "metadata": {
    "collapsed": true
   },
   "outputs": [
    {
     "ename": "AttributeError",
     "evalue": "'XGBClassifier' object has no attribute 'feature_importances_'",
     "output_type": "error",
     "traceback": [
      "\u001b[1;31m---------------------------------------------------------------------------\u001b[0m",
      "\u001b[1;31mAttributeError\u001b[0m                            Traceback (most recent call last)",
      "\u001b[1;32m<ipython-input-11-e443e441a9c3>\u001b[0m in \u001b[0;36m<module>\u001b[1;34m()\u001b[0m\n\u001b[0;32m     16\u001b[0m     \u001b[1;31m#plt.savefig(\"var_importance1.png\")\u001b[0m\u001b[1;33m\u001b[0m\u001b[1;33m\u001b[0m\u001b[0m\n\u001b[0;32m     17\u001b[0m     \u001b[0mplt\u001b[0m\u001b[1;33m.\u001b[0m\u001b[0mshow\u001b[0m\u001b[1;33m(\u001b[0m\u001b[1;33m)\u001b[0m\u001b[1;33m\u001b[0m\u001b[0m\n\u001b[1;32m---> 18\u001b[1;33m \u001b[0mvar_importance\u001b[0m\u001b[1;33m(\u001b[0m\u001b[0mmodel\u001b[0m\u001b[1;33m)\u001b[0m\u001b[1;33m\u001b[0m\u001b[0m\n\u001b[0m",
      "\u001b[1;32m<ipython-input-11-e443e441a9c3>\u001b[0m in \u001b[0;36mvar_importance\u001b[1;34m(model)\u001b[0m\n\u001b[0;32m      3\u001b[0m \u001b[1;32mdef\u001b[0m \u001b[0mvar_importance\u001b[0m\u001b[1;33m(\u001b[0m\u001b[0mmodel\u001b[0m\u001b[1;33m)\u001b[0m\u001b[1;33m:\u001b[0m\u001b[1;33m\u001b[0m\u001b[0m\n\u001b[0;32m      4\u001b[0m \u001b[1;33m\u001b[0m\u001b[0m\n\u001b[1;32m----> 5\u001b[1;33m     \u001b[0mfeature_importance\u001b[0m \u001b[1;33m=\u001b[0m \u001b[0mmodel\u001b[0m\u001b[1;33m.\u001b[0m\u001b[0mfeature_importances_\u001b[0m\u001b[1;33m\u001b[0m\u001b[0m\n\u001b[0m\u001b[0;32m      6\u001b[0m     \u001b[1;31m# make importances relative to max importance\u001b[0m\u001b[1;33m\u001b[0m\u001b[1;33m\u001b[0m\u001b[0m\n\u001b[0;32m      7\u001b[0m     \u001b[0mfeature_importance\u001b[0m \u001b[1;33m=\u001b[0m \u001b[1;36m100.0\u001b[0m \u001b[1;33m*\u001b[0m \u001b[1;33m(\u001b[0m\u001b[0mfeature_importance\u001b[0m \u001b[1;33m/\u001b[0m \u001b[0mfeature_importance\u001b[0m\u001b[1;33m.\u001b[0m\u001b[0mmax\u001b[0m\u001b[1;33m(\u001b[0m\u001b[1;33m)\u001b[0m\u001b[1;33m)\u001b[0m\u001b[1;33m\u001b[0m\u001b[0m\n",
      "\u001b[1;31mAttributeError\u001b[0m: 'XGBClassifier' object has no attribute 'feature_importances_'"
     ]
    }
   ],
   "source": [
    "import matplotlib.pyplot as plt\n",
    "cols = X_train.columns\n",
    "def var_importance(model):\n",
    "\n",
    "    feature_importance = model.feature_importances_\n",
    "    # make importances relative to max importance\n",
    "    feature_importance = 100.0 * (feature_importance / feature_importance.max())\n",
    "    sorted_idx = np.argsort(feature_importance)[::-1]\n",
    "    top_sorted_idx = sorted_idx[:20]\n",
    "    pos = np.arange(top_sorted_idx.shape[0]) + .5\n",
    "    #fig = plt.figure() \n",
    "    plt.barh(pos, feature_importance[top_sorted_idx][::-1], align='center')\n",
    "    plt.yticks(pos, cols[top_sorted_idx][::-1])\n",
    "    plt.xlabel('Relative Importance')\n",
    "    plt.title('Variable Importance')\n",
    "    #plt.savefig(\"var_importance1.png\")\n",
    "    plt.show()\n",
    "var_importance(model)"
   ]
  },
  {
   "cell_type": "code",
   "execution_count": 58,
   "metadata": {
    "collapsed": true
   },
   "outputs": [
    {
     "name": "stdout",
     "output_type": "stream",
     "text": [
      "37.9816241264\n"
     ]
    },
    {
     "data": {
      "text/html": [
       "<div>\n",
       "<table border=\"1\" class=\"dataframe\">\n",
       "  <thead>\n",
       "    <tr style=\"text-align: right;\">\n",
       "      <th></th>\n",
       "      <th>top1</th>\n",
       "      <th>top2</th>\n",
       "      <th>top3</th>\n",
       "    </tr>\n",
       "  </thead>\n",
       "  <tbody>\n",
       "    <tr>\n",
       "      <th>0</th>\n",
       "      <td>num_acct_garntr_6_48m</td>\n",
       "      <td>cur_creditlimit_7_cur</td>\n",
       "      <td>BA_recent_base_date_12M</td>\n",
       "    </tr>\n",
       "    <tr>\n",
       "      <th>1</th>\n",
       "      <td>num_acct_garntr_6_48m</td>\n",
       "      <td>cur_creditlimit_7_cur</td>\n",
       "      <td>BA_recent_base_date_12M</td>\n",
       "    </tr>\n",
       "    <tr>\n",
       "      <th>2</th>\n",
       "      <td>num_acct_garntr_6_48m</td>\n",
       "      <td>cur_creditlimit_7_cur</td>\n",
       "      <td>BA_recent_base_date_12M</td>\n",
       "    </tr>\n",
       "    <tr>\n",
       "      <th>3</th>\n",
       "      <td>sic61_inq_6m</td>\n",
       "      <td>sic61_inq_12m</td>\n",
       "      <td>sic61_inq_24m</td>\n",
       "    </tr>\n",
       "    <tr>\n",
       "      <th>4</th>\n",
       "      <td>total_past_due_cat3_rev_cur</td>\n",
       "      <td>charge_off_amount_inst_cur</td>\n",
       "      <td>cur_creditlimit_7_cur</td>\n",
       "    </tr>\n",
       "    <tr>\n",
       "      <th>5</th>\n",
       "      <td>sic61_inq_6m</td>\n",
       "      <td>sic61_inq_12m</td>\n",
       "      <td>sic61_inq_24m</td>\n",
       "    </tr>\n",
       "    <tr>\n",
       "      <th>6</th>\n",
       "      <td>AGE</td>\n",
       "      <td>total_past_due_cat3_rev_cur</td>\n",
       "      <td>charge_off_amount_inst_cur</td>\n",
       "    </tr>\n",
       "    <tr>\n",
       "      <th>7</th>\n",
       "      <td>sic61_inq_6m</td>\n",
       "      <td>sic61_inq_12m</td>\n",
       "      <td>sic61_inq_24m</td>\n",
       "    </tr>\n",
       "    <tr>\n",
       "      <th>8</th>\n",
       "      <td>sic61_inq_6m</td>\n",
       "      <td>PCT_UTIL_TOTAL</td>\n",
       "      <td>sic61_inq_12m</td>\n",
       "    </tr>\n",
       "    <tr>\n",
       "      <th>9</th>\n",
       "      <td>CPCT</td>\n",
       "      <td>COMPTYPE_H</td>\n",
       "      <td>sic61_inq_12m</td>\n",
       "    </tr>\n",
       "    <tr>\n",
       "      <th>10</th>\n",
       "      <td>sic61_inq_12m</td>\n",
       "      <td>sic61_inq_24m</td>\n",
       "      <td>total_past_due_cat3_rev_cur</td>\n",
       "    </tr>\n",
       "    <tr>\n",
       "      <th>11</th>\n",
       "      <td>sic61_inq_6m</td>\n",
       "      <td>sic61_inq_12m</td>\n",
       "      <td>AGE</td>\n",
       "    </tr>\n",
       "    <tr>\n",
       "      <th>12</th>\n",
       "      <td>sic61_inq_6m</td>\n",
       "      <td>sic61_inq_12m</td>\n",
       "      <td>AGE</td>\n",
       "    </tr>\n",
       "    <tr>\n",
       "      <th>13</th>\n",
       "      <td>total_past_due_cat3_rev_cur</td>\n",
       "      <td>max_rev_pst_due_b3_12m</td>\n",
       "      <td>AGE</td>\n",
       "    </tr>\n",
       "    <tr>\n",
       "      <th>14</th>\n",
       "      <td>min_rev_bal_vel_12m</td>\n",
       "      <td>sic61_inq_6m</td>\n",
       "      <td>sic61_inq_12m</td>\n",
       "    </tr>\n",
       "    <tr>\n",
       "      <th>15</th>\n",
       "      <td>card_utiliz_cur</td>\n",
       "      <td>FSPOINTS</td>\n",
       "      <td>min_fin_bal_vel_12m</td>\n",
       "    </tr>\n",
       "    <tr>\n",
       "      <th>16</th>\n",
       "      <td>sic61_inq_24m</td>\n",
       "      <td>PDEXVAR</td>\n",
       "      <td>pexp_cr</td>\n",
       "    </tr>\n",
       "    <tr>\n",
       "      <th>17</th>\n",
       "      <td>sic61_inq_12m</td>\n",
       "      <td>total_past_due_cat3_rev_cur</td>\n",
       "      <td>charge_off_amount_inst_cur</td>\n",
       "    </tr>\n",
       "    <tr>\n",
       "      <th>18</th>\n",
       "      <td>total_past_due_cat3_rev_cur</td>\n",
       "      <td>charge_off_amount_inst_cur</td>\n",
       "      <td>COMPTYPE_H</td>\n",
       "    </tr>\n",
       "    <tr>\n",
       "      <th>19</th>\n",
       "      <td>total_past_due_cat3_rev_cur</td>\n",
       "      <td>charge_off_amount_inst_cur</td>\n",
       "      <td>cur_creditlimit_7_cur</td>\n",
       "    </tr>\n",
       "    <tr>\n",
       "      <th>20</th>\n",
       "      <td>total_past_due_cat3_rev_cur</td>\n",
       "      <td>charge_off_amount_inst_cur</td>\n",
       "      <td>card_utiliz_12m</td>\n",
       "    </tr>\n",
       "    <tr>\n",
       "      <th>21</th>\n",
       "      <td>sic61_inq_12m</td>\n",
       "      <td>AGE</td>\n",
       "      <td>sic61_inq_24m</td>\n",
       "    </tr>\n",
       "    <tr>\n",
       "      <th>22</th>\n",
       "      <td>sic61_inq_6m</td>\n",
       "      <td>dpctneg</td>\n",
       "      <td>AV_PCT90P_12M</td>\n",
       "    </tr>\n",
       "    <tr>\n",
       "      <th>23</th>\n",
       "      <td>AGE</td>\n",
       "      <td>total_past_due_cat3_rev_cur</td>\n",
       "      <td>charge_off_amount_inst_cur</td>\n",
       "    </tr>\n",
       "    <tr>\n",
       "      <th>24</th>\n",
       "      <td>card_utiliz_cur</td>\n",
       "      <td>FSPOINTS</td>\n",
       "      <td>min_fin_bal_vel_12m</td>\n",
       "    </tr>\n",
       "    <tr>\n",
       "      <th>25</th>\n",
       "      <td>HIGHEST_AMT_OWING_LAST_EXP</td>\n",
       "      <td>sic61_inq_12m</td>\n",
       "      <td>PCT2_DOLL_CARD_CYC2</td>\n",
       "    </tr>\n",
       "    <tr>\n",
       "      <th>26</th>\n",
       "      <td>AGE</td>\n",
       "      <td>total_past_due_cat3_rev_cur</td>\n",
       "      <td>charge_off_amount_inst_cur</td>\n",
       "    </tr>\n",
       "    <tr>\n",
       "      <th>27</th>\n",
       "      <td>AGE</td>\n",
       "      <td>total_past_due_cat3_rev_cur</td>\n",
       "      <td>charge_off_amount_inst_cur</td>\n",
       "    </tr>\n",
       "    <tr>\n",
       "      <th>28</th>\n",
       "      <td>DJUDGMNT</td>\n",
       "      <td>num_acct_garntr_4_cur</td>\n",
       "      <td>total_past_due_cat3_rev_cur</td>\n",
       "    </tr>\n",
       "    <tr>\n",
       "      <th>29</th>\n",
       "      <td>AGE3</td>\n",
       "      <td>AGE</td>\n",
       "      <td>total_past_due_cat3_rev_cur</td>\n",
       "    </tr>\n",
       "    <tr>\n",
       "      <th>...</th>\n",
       "      <td>...</td>\n",
       "      <td>...</td>\n",
       "      <td>...</td>\n",
       "    </tr>\n",
       "    <tr>\n",
       "      <th>17547</th>\n",
       "      <td>card_utiliz_cur</td>\n",
       "      <td>PCT_UTIL_TOTAL</td>\n",
       "      <td>sm_pctslow</td>\n",
       "    </tr>\n",
       "    <tr>\n",
       "      <th>17548</th>\n",
       "      <td>charge_off_amount_inst_cur</td>\n",
       "      <td>card_utiliz_12m</td>\n",
       "      <td>sic61_inq_6m</td>\n",
       "    </tr>\n",
       "    <tr>\n",
       "      <th>17549</th>\n",
       "      <td>sic61_inq_6m</td>\n",
       "      <td>sic61_inq_12m</td>\n",
       "      <td>sic61_inq_24m</td>\n",
       "    </tr>\n",
       "    <tr>\n",
       "      <th>17550</th>\n",
       "      <td>sic61_inq_24m</td>\n",
       "      <td>charge_off_amount_inst_cur</td>\n",
       "      <td>card_utiliz_12m</td>\n",
       "    </tr>\n",
       "    <tr>\n",
       "      <th>17551</th>\n",
       "      <td>total_past_due_cat3_rev_cur</td>\n",
       "      <td>charge_off_amount_inst_cur</td>\n",
       "      <td>card_utiliz_12m</td>\n",
       "    </tr>\n",
       "    <tr>\n",
       "      <th>17552</th>\n",
       "      <td>card_utiliz_cur</td>\n",
       "      <td>rev_utiliz_cur</td>\n",
       "      <td>time_rec_del_6</td>\n",
       "    </tr>\n",
       "    <tr>\n",
       "      <th>17553</th>\n",
       "      <td>PCT_UTIL_TOTAL</td>\n",
       "      <td>CPOINTS</td>\n",
       "      <td>sic61_inq_6m</td>\n",
       "    </tr>\n",
       "    <tr>\n",
       "      <th>17554</th>\n",
       "      <td>charge_off_amount_inst_cur</td>\n",
       "      <td>CPCT</td>\n",
       "      <td>card_utiliz_12m</td>\n",
       "    </tr>\n",
       "    <tr>\n",
       "      <th>17555</th>\n",
       "      <td>DJUDGMNT</td>\n",
       "      <td>num_acct_garntr_4_cur</td>\n",
       "      <td>COMPTYPE_H</td>\n",
       "    </tr>\n",
       "    <tr>\n",
       "      <th>17556</th>\n",
       "      <td>COMPTYPE_H</td>\n",
       "      <td>card_utiliz_12m</td>\n",
       "      <td>cur_creditlimit_7_cur</td>\n",
       "    </tr>\n",
       "    <tr>\n",
       "      <th>17557</th>\n",
       "      <td>MAX_PCT_ACCTS_31P_LAST_QTR</td>\n",
       "      <td>PCT_ACCTS_61P_RECENT</td>\n",
       "      <td>card_utiliz_12m</td>\n",
       "    </tr>\n",
       "    <tr>\n",
       "      <th>17558</th>\n",
       "      <td>PCT_UTIL_TOTAL</td>\n",
       "      <td>sm_pctslow</td>\n",
       "      <td>dpct30</td>\n",
       "    </tr>\n",
       "    <tr>\n",
       "      <th>17559</th>\n",
       "      <td>sic61_inq_12m</td>\n",
       "      <td>sic61_inq_24m</td>\n",
       "      <td>total_past_due_cat3_rev_cur</td>\n",
       "    </tr>\n",
       "    <tr>\n",
       "      <th>17560</th>\n",
       "      <td>AV_PCT30P_9M</td>\n",
       "      <td>AGE</td>\n",
       "      <td>total_past_due_cat3_rev_cur</td>\n",
       "    </tr>\n",
       "    <tr>\n",
       "      <th>17561</th>\n",
       "      <td>total_past_due_cat3_rev_cur</td>\n",
       "      <td>charge_off_amount_inst_cur</td>\n",
       "      <td>PCT_UTIL_TOTAL</td>\n",
       "    </tr>\n",
       "    <tr>\n",
       "      <th>17562</th>\n",
       "      <td>cur_creditlimit_7_cur</td>\n",
       "      <td>pexp_cr</td>\n",
       "      <td>BA_sum_b_12M</td>\n",
       "    </tr>\n",
       "    <tr>\n",
       "      <th>17563</th>\n",
       "      <td>card_utiliz_cur</td>\n",
       "      <td>rev_utiliz_cur</td>\n",
       "      <td>min_fin_bal_vel_12m</td>\n",
       "    </tr>\n",
       "    <tr>\n",
       "      <th>17564</th>\n",
       "      <td>total_past_due_cat3_rev_cur</td>\n",
       "      <td>charge_off_amount_inst_cur</td>\n",
       "      <td>PCT_UTIL_TOTAL</td>\n",
       "    </tr>\n",
       "    <tr>\n",
       "      <th>17565</th>\n",
       "      <td>AGE</td>\n",
       "      <td>total_past_due_cat3_rev_cur</td>\n",
       "      <td>charge_off_amount_inst_cur</td>\n",
       "    </tr>\n",
       "    <tr>\n",
       "      <th>17566</th>\n",
       "      <td>CPCT</td>\n",
       "      <td>card_utiliz_12m</td>\n",
       "      <td>card_utiliz_cur</td>\n",
       "    </tr>\n",
       "    <tr>\n",
       "      <th>17567</th>\n",
       "      <td>max_balance_rev_24m</td>\n",
       "      <td>card_utiliz_48m</td>\n",
       "      <td>min_fin_bal_vel_12m</td>\n",
       "    </tr>\n",
       "    <tr>\n",
       "      <th>17568</th>\n",
       "      <td>total_past_due_cat3_rev_cur</td>\n",
       "      <td>charge_off_amount_inst_cur</td>\n",
       "      <td>PCT_UTIL_TOTAL</td>\n",
       "    </tr>\n",
       "    <tr>\n",
       "      <th>17569</th>\n",
       "      <td>total_past_due_cat1_2_cur</td>\n",
       "      <td>PCT_DOLL_CARD_CYC2</td>\n",
       "      <td>cur_creditlimit_7_cur</td>\n",
       "    </tr>\n",
       "    <tr>\n",
       "      <th>17570</th>\n",
       "      <td>sic61_inq_24m</td>\n",
       "      <td>charge_off_amount_inst_cur</td>\n",
       "      <td>CPCT</td>\n",
       "    </tr>\n",
       "    <tr>\n",
       "      <th>17571</th>\n",
       "      <td>AGE</td>\n",
       "      <td>total_past_due_cat3_rev_cur</td>\n",
       "      <td>PCT2_DOLL_CARD_CYC2</td>\n",
       "    </tr>\n",
       "    <tr>\n",
       "      <th>17572</th>\n",
       "      <td>card_utiliz_cur</td>\n",
       "      <td>rev_utiliz_cur</td>\n",
       "      <td>PCT_UTIL_TOTAL</td>\n",
       "    </tr>\n",
       "    <tr>\n",
       "      <th>17573</th>\n",
       "      <td>COMPTYPE_H</td>\n",
       "      <td>sic61_inq_12m</td>\n",
       "      <td>BA_sum_b_12M</td>\n",
       "    </tr>\n",
       "    <tr>\n",
       "      <th>17574</th>\n",
       "      <td>sic61_inq_6m</td>\n",
       "      <td>sic61_inq_12m</td>\n",
       "      <td>sic61_inq_24m</td>\n",
       "    </tr>\n",
       "    <tr>\n",
       "      <th>17575</th>\n",
       "      <td>charge_off_amount_inst_cur</td>\n",
       "      <td>CPCT</td>\n",
       "      <td>card_utiliz_12m</td>\n",
       "    </tr>\n",
       "    <tr>\n",
       "      <th>17576</th>\n",
       "      <td>AV_PCT30P_9M</td>\n",
       "      <td>AGE</td>\n",
       "      <td>total_past_due_cat3_rev_cur</td>\n",
       "    </tr>\n",
       "  </tbody>\n",
       "</table>\n",
       "<p>17577 rows × 3 columns</p>\n",
       "</div>"
      ],
      "text/plain": [
       "                              top1                         top2  \\\n",
       "0            num_acct_garntr_6_48m        cur_creditlimit_7_cur   \n",
       "1            num_acct_garntr_6_48m        cur_creditlimit_7_cur   \n",
       "2            num_acct_garntr_6_48m        cur_creditlimit_7_cur   \n",
       "3                     sic61_inq_6m                sic61_inq_12m   \n",
       "4      total_past_due_cat3_rev_cur   charge_off_amount_inst_cur   \n",
       "5                     sic61_inq_6m                sic61_inq_12m   \n",
       "6                              AGE  total_past_due_cat3_rev_cur   \n",
       "7                     sic61_inq_6m                sic61_inq_12m   \n",
       "8                     sic61_inq_6m               PCT_UTIL_TOTAL   \n",
       "9                             CPCT                   COMPTYPE_H   \n",
       "10                   sic61_inq_12m                sic61_inq_24m   \n",
       "11                    sic61_inq_6m                sic61_inq_12m   \n",
       "12                    sic61_inq_6m                sic61_inq_12m   \n",
       "13     total_past_due_cat3_rev_cur       max_rev_pst_due_b3_12m   \n",
       "14             min_rev_bal_vel_12m                 sic61_inq_6m   \n",
       "15                 card_utiliz_cur                     FSPOINTS   \n",
       "16                   sic61_inq_24m                      PDEXVAR   \n",
       "17                   sic61_inq_12m  total_past_due_cat3_rev_cur   \n",
       "18     total_past_due_cat3_rev_cur   charge_off_amount_inst_cur   \n",
       "19     total_past_due_cat3_rev_cur   charge_off_amount_inst_cur   \n",
       "20     total_past_due_cat3_rev_cur   charge_off_amount_inst_cur   \n",
       "21                   sic61_inq_12m                          AGE   \n",
       "22                    sic61_inq_6m                      dpctneg   \n",
       "23                             AGE  total_past_due_cat3_rev_cur   \n",
       "24                 card_utiliz_cur                     FSPOINTS   \n",
       "25      HIGHEST_AMT_OWING_LAST_EXP                sic61_inq_12m   \n",
       "26                             AGE  total_past_due_cat3_rev_cur   \n",
       "27                             AGE  total_past_due_cat3_rev_cur   \n",
       "28                        DJUDGMNT        num_acct_garntr_4_cur   \n",
       "29                            AGE3                          AGE   \n",
       "...                            ...                          ...   \n",
       "17547              card_utiliz_cur               PCT_UTIL_TOTAL   \n",
       "17548   charge_off_amount_inst_cur              card_utiliz_12m   \n",
       "17549                 sic61_inq_6m                sic61_inq_12m   \n",
       "17550                sic61_inq_24m   charge_off_amount_inst_cur   \n",
       "17551  total_past_due_cat3_rev_cur   charge_off_amount_inst_cur   \n",
       "17552              card_utiliz_cur               rev_utiliz_cur   \n",
       "17553               PCT_UTIL_TOTAL                      CPOINTS   \n",
       "17554   charge_off_amount_inst_cur                         CPCT   \n",
       "17555                     DJUDGMNT        num_acct_garntr_4_cur   \n",
       "17556                   COMPTYPE_H              card_utiliz_12m   \n",
       "17557   MAX_PCT_ACCTS_31P_LAST_QTR         PCT_ACCTS_61P_RECENT   \n",
       "17558               PCT_UTIL_TOTAL                   sm_pctslow   \n",
       "17559                sic61_inq_12m                sic61_inq_24m   \n",
       "17560                 AV_PCT30P_9M                          AGE   \n",
       "17561  total_past_due_cat3_rev_cur   charge_off_amount_inst_cur   \n",
       "17562        cur_creditlimit_7_cur                      pexp_cr   \n",
       "17563              card_utiliz_cur               rev_utiliz_cur   \n",
       "17564  total_past_due_cat3_rev_cur   charge_off_amount_inst_cur   \n",
       "17565                          AGE  total_past_due_cat3_rev_cur   \n",
       "17566                         CPCT              card_utiliz_12m   \n",
       "17567          max_balance_rev_24m              card_utiliz_48m   \n",
       "17568  total_past_due_cat3_rev_cur   charge_off_amount_inst_cur   \n",
       "17569    total_past_due_cat1_2_cur           PCT_DOLL_CARD_CYC2   \n",
       "17570                sic61_inq_24m   charge_off_amount_inst_cur   \n",
       "17571                          AGE  total_past_due_cat3_rev_cur   \n",
       "17572              card_utiliz_cur               rev_utiliz_cur   \n",
       "17573                   COMPTYPE_H                sic61_inq_12m   \n",
       "17574                 sic61_inq_6m                sic61_inq_12m   \n",
       "17575   charge_off_amount_inst_cur                         CPCT   \n",
       "17576                 AV_PCT30P_9M                          AGE   \n",
       "\n",
       "                              top3  \n",
       "0          BA_recent_base_date_12M  \n",
       "1          BA_recent_base_date_12M  \n",
       "2          BA_recent_base_date_12M  \n",
       "3                    sic61_inq_24m  \n",
       "4            cur_creditlimit_7_cur  \n",
       "5                    sic61_inq_24m  \n",
       "6       charge_off_amount_inst_cur  \n",
       "7                    sic61_inq_24m  \n",
       "8                    sic61_inq_12m  \n",
       "9                    sic61_inq_12m  \n",
       "10     total_past_due_cat3_rev_cur  \n",
       "11                             AGE  \n",
       "12                             AGE  \n",
       "13                             AGE  \n",
       "14                   sic61_inq_12m  \n",
       "15             min_fin_bal_vel_12m  \n",
       "16                         pexp_cr  \n",
       "17      charge_off_amount_inst_cur  \n",
       "18                      COMPTYPE_H  \n",
       "19           cur_creditlimit_7_cur  \n",
       "20                 card_utiliz_12m  \n",
       "21                   sic61_inq_24m  \n",
       "22                   AV_PCT90P_12M  \n",
       "23      charge_off_amount_inst_cur  \n",
       "24             min_fin_bal_vel_12m  \n",
       "25             PCT2_DOLL_CARD_CYC2  \n",
       "26      charge_off_amount_inst_cur  \n",
       "27      charge_off_amount_inst_cur  \n",
       "28     total_past_due_cat3_rev_cur  \n",
       "29     total_past_due_cat3_rev_cur  \n",
       "...                            ...  \n",
       "17547                   sm_pctslow  \n",
       "17548                 sic61_inq_6m  \n",
       "17549                sic61_inq_24m  \n",
       "17550              card_utiliz_12m  \n",
       "17551              card_utiliz_12m  \n",
       "17552               time_rec_del_6  \n",
       "17553                 sic61_inq_6m  \n",
       "17554              card_utiliz_12m  \n",
       "17555                   COMPTYPE_H  \n",
       "17556        cur_creditlimit_7_cur  \n",
       "17557              card_utiliz_12m  \n",
       "17558                       dpct30  \n",
       "17559  total_past_due_cat3_rev_cur  \n",
       "17560  total_past_due_cat3_rev_cur  \n",
       "17561               PCT_UTIL_TOTAL  \n",
       "17562                 BA_sum_b_12M  \n",
       "17563          min_fin_bal_vel_12m  \n",
       "17564               PCT_UTIL_TOTAL  \n",
       "17565   charge_off_amount_inst_cur  \n",
       "17566              card_utiliz_cur  \n",
       "17567          min_fin_bal_vel_12m  \n",
       "17568               PCT_UTIL_TOTAL  \n",
       "17569        cur_creditlimit_7_cur  \n",
       "17570                         CPCT  \n",
       "17571          PCT2_DOLL_CARD_CYC2  \n",
       "17572               PCT_UTIL_TOTAL  \n",
       "17573                 BA_sum_b_12M  \n",
       "17574                sic61_inq_24m  \n",
       "17575              card_utiliz_12m  \n",
       "17576  total_past_due_cat3_rev_cur  \n",
       "\n",
       "[17577 rows x 3 columns]"
      ]
     },
     "execution_count": 58,
     "metadata": {},
     "output_type": "execute_result"
    }
   ],
   "source": [
    "select_features=X_test.columns\n",
    "from treeinterpreter import treeinterpreter as ti\n",
    "start = time.time()\n",
    "\n",
    "def predict_gbc(model,X):\n",
    "    biases = []\n",
    "    contributions = []\n",
    "    predictions = []\n",
    "    for tree in model.estimators_:         \n",
    "            pred, bias, contribution =ti._predict_tree(tree[0], X)\n",
    "            biases.append(bias)\n",
    "            contributions.append(contribution)\n",
    "            predictions.append(pred)\n",
    "        \n",
    "        \n",
    "    return (np.mean(predictions, axis=0), np.mean(biases, axis=0),\n",
    "            np.mean(contributions, axis=0))\n",
    "\n",
    "prediction, bias, contributions = predict_gbc(model, Xh)\n",
    "temp1=pd.DataFrame(contributions[:,:],columns=select_features)\n",
    "temp2=pd.DataFrame(bias[:],columns=['bias'])\n",
    "temp3=pd.DataFrame(prediction[:,],columns=['pred'])\n",
    "nlargest = 3\n",
    "order = np.argsort(-temp1.values, axis=1)[:, :nlargest]\n",
    "temp4 = pd.DataFrame(temp1.columns[order], \n",
    "                      columns=['top{}'.format(i) for i in range(1, nlargest+1)])\n",
    "output=temp3.join(temp2).join(temp1).join(temp4)\n",
    "end = time.time()\n",
    "print(end - start)\n",
    "output[['top1','top2','top3']]\n"
   ]
  },
  {
   "cell_type": "code",
   "execution_count": 26,
   "metadata": {
    "collapsed": false
   },
   "outputs": [
    {
     "name": "stdout",
     "output_type": "stream",
     "text": [
      "[ 0.00409487  0.00048283  0.00059698 ...,  0.00065815  0.00062756\n",
      "  0.00082299]\n"
     ]
    },
    {
     "data": {
      "text/plain": [
       "array([ 0.00464013,  0.0044198 ,  0.0044266 , ...,  0.00443025,\n",
       "        0.00442842,  0.00444009])"
      ]
     },
     "execution_count": 26,
     "metadata": {},
     "output_type": "execute_result"
    }
   ],
   "source": [
    "from sklearn.linear_model import LogisticRegression as LR\n",
    "proba= model.predict_proba(X_train)\n",
    "D = pd.DataFrame(proba.T[1],columns = ['y_prob_inc'])\n",
    "lr = LR()                                                       \n",
    "lr.fit( proba.T[1].reshape( -1, 1 ), y_train )     # LR needs X to be 2-dimensional\n",
    "print proba.T[1]\n",
    "lr.predict_proba(proba.T[1].reshape( -1, 1 )).T[1]\n"
   ]
  },
  {
   "cell_type": "code",
   "execution_count": null,
   "metadata": {
    "collapsed": false
   },
   "outputs": [],
   "source": [
    "proba= model.predict_proba(X_train)\n",
    "print proba[:,1]\n",
    "proba2 = lr.predict_proba(proba.T[1].reshape( -1, 1 ))\n",
    "print proba2[:,1]-proba[:,1]"
   ]
  },
  {
   "cell_type": "code",
   "execution_count": 11,
   "metadata": {
    "collapsed": true
   },
   "outputs": [],
   "source": [
    "import numpy as np\n",
    "\n",
    "def get_diagram_data( y, p, n_bins ):\n",
    "\n",
    "\tn_bins = float( n_bins )\t# a float to take care of division\n",
    "\n",
    "\t# we'll append because some bins might be empty\n",
    "\tmean_predicted_values = np.empty(( 0, ))\n",
    "\ttrue_fractions = np.zeros(( 0, ))\n",
    "\n",
    "\tfor b in range( 1, int( n_bins ) + 1 ):\n",
    "\t\ti = np.logical_and( p <= b / n_bins, p > ( b - 1 ) / n_bins )\t# indexes for p in the current bin\n",
    "\t\t\n",
    "\t\t# skip bin if empty\n",
    "\t\tif np.sum( i ) == 0:\n",
    "\t\t\tcontinue\n",
    "\n",
    "\t\tmean_predicted_value = np.mean( p[i] )\n",
    "\t\t# print \"***\", np.sum( y[i] ), np.sum( i )\n",
    "\t\ttrue_fraction = np.sum( y[i] ) / np.sum( i )\t\t\t\t\t# y are 0/1; i are logical and evaluate to 0/1\n",
    "\n",
    "\t\tprint mean_predicted_value, true_fraction\n",
    "\n",
    "\t\tmean_predicted_values = np.hstack(( mean_predicted_values, mean_predicted_value ))\n",
    "\t\ttrue_fractions = np.hstack(( true_fractions, true_fraction ))\n",
    "\t\t\n",
    "\treturn ( mean_predicted_values, true_fractions )\n",
    "\t\n"
   ]
  },
  {
   "cell_type": "code",
   "execution_count": 12,
   "metadata": {
    "collapsed": false,
    "scrolled": true
   },
   "outputs": [
    {
     "name": "stdout",
     "output_type": "stream",
     "text": [
      "computing...\n"
     ]
    },
    {
     "ename": "NameError",
     "evalue": "name 'proba2' is not defined",
     "output_type": "error",
     "traceback": [
      "\u001b[1;31m---------------------------------------------------------------------------\u001b[0m",
      "\u001b[1;31mNameError\u001b[0m                                 Traceback (most recent call last)",
      "\u001b[1;32m<ipython-input-12-7cc84a37acdb>\u001b[0m in \u001b[0;36m<module>\u001b[1;34m()\u001b[0m\n\u001b[0;32m      4\u001b[0m \u001b[0mn_bins\u001b[0m \u001b[1;33m=\u001b[0m \u001b[1;36m25\u001b[0m\u001b[1;33m\u001b[0m\u001b[0m\n\u001b[0;32m      5\u001b[0m \u001b[1;33m\u001b[0m\u001b[0m\n\u001b[1;32m----> 6\u001b[1;33m \u001b[0mmean_predicted_values\u001b[0m\u001b[1;33m,\u001b[0m \u001b[0mtrue_fractions\u001b[0m \u001b[1;33m=\u001b[0m \u001b[0mget_diagram_data\u001b[0m\u001b[1;33m(\u001b[0m \u001b[0my_train\u001b[0m\u001b[1;33m,\u001b[0m \u001b[0mproba2\u001b[0m\u001b[1;33m[\u001b[0m\u001b[1;33m:\u001b[0m\u001b[1;33m,\u001b[0m\u001b[1;36m1\u001b[0m\u001b[1;33m]\u001b[0m\u001b[1;33m,\u001b[0m \u001b[0mn_bins\u001b[0m \u001b[1;33m)\u001b[0m\u001b[1;33m\u001b[0m\u001b[0m\n\u001b[0m\u001b[0;32m      7\u001b[0m \u001b[0mplt\u001b[0m\u001b[1;33m.\u001b[0m\u001b[0mplot\u001b[0m\u001b[1;33m(\u001b[0m \u001b[0mmean_predicted_values\u001b[0m\u001b[1;33m,\u001b[0m \u001b[0mtrue_fractions\u001b[0m \u001b[1;33m)\u001b[0m\u001b[1;33m\u001b[0m\u001b[0m\n\u001b[0;32m      8\u001b[0m \u001b[1;33m\u001b[0m\u001b[0m\n",
      "\u001b[1;31mNameError\u001b[0m: name 'proba2' is not defined"
     ]
    }
   ],
   "source": [
    "%matplotlib inline\n",
    "print \"computing...\"\n",
    "\n",
    "n_bins = 25\n",
    "\n",
    "mean_predicted_values, true_fractions = get_diagram_data( y_train, proba2[:,1], n_bins )\n",
    "plt.plot( mean_predicted_values, true_fractions )\n",
    "\n",
    "mean_predicted_values, true_fractions = get_diagram_data( y_train, proba[:,1], n_bins )\n",
    "plt.plot( mean_predicted_values, true_fractions )\n",
    "# perfect calibration line\n",
    "plt.plot( np.linspace( 0, 1 ), np.linspace( 0, 1 ), 'gray' )\n",
    "\n",
    "plt.show()"
   ]
  },
  {
   "cell_type": "code",
   "execution_count": null,
   "metadata": {
    "collapsed": false
   },
   "outputs": [],
   "source": [
    "\n",
    "proba= model.predict_proba(X_train)\n",
    "proba = lr.predict_proba(proba.T[1].reshape( -1, 1 ))\n",
    "\n",
    "D = pd.DataFrame(proba.T[1],columns = ['y_prob_inc'])\n",
    "E = pd.DataFrame(y_train.values,columns=['Actual_Inc'])\n",
    "Results = pd.concat([D,E],1)\n",
    "r1 = assessment2(Results,11)\n",
    "r2 = roc_auc_score(y_train,proba[:,1])\n",
    "r3 =  my_custom_loss_func(y_train,proba)\n",
    "r4 = my_custom_loss_func2(y_train,proba)\n",
    "Result_train = (r1,r2,r3,r4)\n",
    "\n",
    "\n",
    "proba= model.predict_proba(X_test)\n",
    "proba = lr.predict_proba(proba.T[1].reshape( -1, 1 ))\n",
    "proba= model.predict_proba(X_test)\n",
    "D = pd.DataFrame(proba.T[1],columns = ['y_prob_inc'])\n",
    "E = pd.DataFrame(y_test.values,columns=['Actual_Inc'])\n",
    "Results = pd.concat([D,E],1)\n",
    "r1 = assessment2(Results,11)\n",
    "r2 = roc_auc_score(y_test,proba[:,1])\n",
    "r3 = my_custom_loss_func(y_test,proba)\n",
    "r4 = my_custom_loss_func2(y_test,proba)\n",
    "Result_test = (r1,r2,r3,r4)\n",
    "\n",
    "\n",
    "proba= model.predict_proba(Xh)\n",
    "proba = lr.predict_proba(proba.T[1].reshape( -1, 1 ))\n",
    "D = pd.DataFrame(proba.T[1],columns = ['y_prob_inc'])\n",
    "E = pd.DataFrame(yh.values,columns=['Actual_Inc'])\n",
    "Results = pd.concat([D,E],1)\n",
    "r1 = assessment2(Results,11)\n",
    "r2 = roc_auc_score(yh,proba[:,1])\n",
    "r3 = my_custom_loss_func(yh,proba)\n",
    "r4 = my_custom_loss_func2(yh,proba)\n",
    "Result_valid1 = (r1,r2,r3,r4)\n",
    "\n",
    "Result_final = pd.DataFrame()\n",
    "Result_final['Train'] = pd.Series(Result_train)\n",
    "Result_final['Holdout'] = pd.Series(Result_test)\n",
    "Result_final['Validation1'] = pd.Series(Result_valid1)\n",
    "Result_final = Result_final.T\n",
    "Result_final.columns =['KS_value', 'ROC', 'Top_10%_capture','Top_20%_capture']\n",
    "print Result_final"
   ]
  }
 ],
 "metadata": {
  "kernelspec": {
   "display_name": "Python 2",
   "language": "python",
   "name": "python2"
  },
  "language_info": {
   "codemirror_mode": {
    "name": "ipython",
    "version": 2
   },
   "file_extension": ".py",
   "mimetype": "text/x-python",
   "name": "python",
   "nbconvert_exporter": "python",
   "pygments_lexer": "ipython2",
   "version": "2.7.11"
  }
 },
 "nbformat": 4,
 "nbformat_minor": 0
}
